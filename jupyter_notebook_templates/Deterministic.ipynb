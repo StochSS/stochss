{
 "cells": [
  {
   "cell_type": "markdown",
   "metadata": {},
   "source": [
    "# StochSS Analysis for Deterministic Simulation"
   ]
  },
  {
   "cell_type": "code",
   "execution_count": null,
   "metadata": {
    "collapsed": true
   },
   "outputs": [],
   "source": [
    "%matplotlib\n",
    "%matplotlib inline\n",
    "import numpy\n",
    "from matplotlib import pyplot as plt\n",
    "import numpy\n",
    "import gillespy"
   ]
  },
  {
   "cell_type": "code",
   "execution_count": null,
   "metadata": {
    "collapsed": true
   },
   "outputs": [],
   "source": [
    "trajectory = gillespy.StochKitODESolver().get_trajectories('result')[0]\n",
    "result_file_name = 'result/output.txt'\n",
    "with open(result_file_name, 'r') as f:\n",
    "    first_line= f.readline()\n",
    "    first_line= f.readline()\n",
    "    labels = first_line.split()\n",
    "    print labels"
   ]
  },
  {
   "cell_type": "code",
   "execution_count": null,
   "metadata": {
    "collapsed": true
   },
   "outputs": [],
   "source": [
    "for ndx,name in enumerate(labels):\n",
    "    if ndx>0:\n",
    "        plt.plot(trajectory[:,0],trajectory[:,ndx],'-', label=name)\n",
    "plt.legend(loc='best')\n",
    "plt.ylim(ymin=0.0-(plt.ylim()[1]*1.1-plt.ylim()[1]), ymax=plt.ylim()[1]*1.1)\n",
    "plt.ylabel('Population')\n",
    "_ = plt.xlabel('time (s)')"
   ]
  },
  {
   "cell_type": "code",
   "execution_count": null,
   "metadata": {
    "collapsed": true
   },
   "outputs": [],
   "source": [
    "!cat result/output.txt"
   ]
  }
 ],
 "metadata": {
  "kernelspec": {
   "display_name": "Python 2",
   "language": "python",
   "name": "python2"
  },
  "language_info": {
   "codemirror_mode": {
    "name": "ipython",
    "version": 2
   },
   "file_extension": ".py",
   "mimetype": "text/x-python",
   "name": "python",
   "nbconvert_exporter": "python",
   "pygments_lexer": "ipython2",
   "version": "2.7.10"
  }
 },
 "nbformat": 4,
 "nbformat_minor": 0
}
