{
 "cells": [
  {
   "cell_type": "markdown",
   "metadata": {},
   "source": [
    "# StochSS Analysis for Stochastic Simulation"
   ]
  },
  {
   "cell_type": "code",
   "execution_count": null,
   "metadata": {
    "collapsed": true
   },
   "outputs": [],
   "source": [
    "%matplotlib\n",
    "%matplotlib inline\n",
    "import numpy\n",
    "from matplotlib import pylab as plt"
   ]
  },
  {
   "cell_type": "code",
   "execution_count": null,
   "metadata": {
    "collapsed": true
   },
   "outputs": [],
   "source": [
    "result_file_name = 'result/trajectories/trajectory0.txt'\n",
    "trajectory = numpy.loadtxt(result_file_name, skiprows=1)\n",
    "labels = []\n",
    "with open(result_file_name, 'r') as f:\n",
    "    first_line= f.readline()\n",
    "    labels = first_line.split()\n",
    "    print labels"
   ]
  },
  {
   "cell_type": "code",
   "execution_count": null,
   "metadata": {
    "collapsed": true
   },
   "outputs": [],
   "source": [
    "for ndx,name in enumerate(labels):\n",
    "    if ndx>0:\n",
    "        plt.plot(trajectory[:,0],trajectory[:,ndx],'-', label=name)\n",
    "plt.legend(loc='best')\n",
    "_ = plt.ylim(ymin=-0.1, ymax=plt.ylim()[1]*1.1)"
   ]
  },
  {
   "cell_type": "code",
   "execution_count": null,
   "metadata": {
    "collapsed": true
   },
   "outputs": [],
   "source": [
    "for ndx,name in enumerate(labels):\n",
    "    if ndx>0:\n",
    "        plt.plot(trajectory[:,0],trajectory[:,ndx],'-', label=name)\n",
    "plt.legend(loc='best')\n",
    "_ = plt.ylim(ymin=-0.1, ymax=plt.ylim()[1]*1.1)"
   ]
  },
  {
   "cell_type": "code",
   "execution_count": null,
   "metadata": {
    "collapsed": true
   },
   "outputs": [],
   "source": [
    "!cat result/trajectories/trajectory0.txt"
   ]
  },
  {
   "cell_type": "code",
   "execution_count": null,
   "metadata": {
    "collapsed": true
   },
   "outputs": [],
   "source": []
  }
 ],
 "metadata": {
  "kernelspec": {
   "display_name": "Python 2",
   "language": "python",
   "name": "python2"
  },
  "language_info": {
   "codemirror_mode": {
    "name": "ipython",
    "version": 2
   },
   "file_extension": ".py",
   "mimetype": "text/x-python",
   "name": "python",
   "nbconvert_exporter": "python",
   "pygments_lexer": "ipython2",
   "version": "2.7.10"
  }
 },
 "nbformat": 4,
 "nbformat_minor": 0
}
