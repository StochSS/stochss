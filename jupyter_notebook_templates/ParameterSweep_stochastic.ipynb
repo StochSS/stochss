{
 "cells": [
  {
   "cell_type": "markdown",
   "metadata": {
    "collapsed": false
   },
   "source": [
    "# StochSS Analysis for Stochastic Parameter Sweep"
   ]
  },
  {
   "cell_type": "code",
   "execution_count": null,
   "metadata": {
    "collapsed": true
   },
   "outputs": [],
   "source": [
    "%matplotlib\n",
    "%matplotlib inline\n",
    "import numpy\n",
    "import sys\n",
    "from matplotlib import pyplot as plt\n",
    "import pickle\n",
    "import pyurdme"
   ]
  },
  {
   "cell_type": "code",
   "execution_count": null,
   "metadata": {
    "collapsed": true
   },
   "outputs": [],
   "source": [
    "import stochss_parametersweep_program"
   ]
  },
  {
   "cell_type": "code",
   "execution_count": null,
   "metadata": {
    "collapsed": true
   },
   "outputs": [],
   "source": [
    "parameters = stochss_parametersweep_program.getParameters()"
   ]
  },
  {
   "cell_type": "code",
   "execution_count": null,
   "metadata": {
    "collapsed": true
   },
   "outputs": [],
   "source": [
    "sweep_data = pickle.load(open('results'))\n",
    "species_names = sweep_data[0]['result']['max'].keys()\n",
    "print 'Species:',species_names\n",
    "parameter_names = sweep_data[0]['parameters'].keys()\n",
    "print 'Parameters:',parameter_names"
   ]
  },
  {
   "cell_type": "code",
   "execution_count": null,
   "metadata": {
    "collapsed": true
   },
   "outputs": [],
   "source": [
    "species_ndx = 0\n",
    "mapper_key = 'avg'\n",
    "reducer_key = 'avg'\n",
    "if len(parameter_names) == 1:\n",
    "    plotdata = numpy.zeros(len(sweep_data))\n",
    "    xdata = numpy.zeros(len(sweep_data))\n",
    "    for i,d in enumerate(sweep_data):\n",
    "        plotdata[i] = d['result'][mapper_key][species_names[0]][reducer_key]\n",
    "        xdata[i] = d['parameters'][parameter_names[0]]\n",
    "    fig, ax = plt.subplots(figsize=(8,8))\n",
    "    plt.title(\"Species: {0} Analysis {1}-{2}\".format(species_names[species_ndx], mapper_key, reducer_key))\n",
    "    plt.plot(xdata,plotdata)\n",
    "    plt.xlabel(parameter_names[0], fontsize=16, fontweight='bold')\n",
    "else:\n",
    "    from mpl_toolkits.axes_grid1 import make_axes_locatable\n",
    "    heatmap = numpy.zeros((len(parameters[parameter_names[0]]),len(parameters[parameter_names[1]])))\n",
    "    for p0ndx,p0val in enumerate(parameters[parameter_names[0]]):\n",
    "        for p1ndx,p1val in enumerate(parameters[parameter_names[1]]):\n",
    "            heatmap[p0ndx,p1ndx] = numpy.nan\n",
    "            for i in range(len(sweep_data)):\n",
    "                if sweep_data[i]['parameters'] == {parameter_names[0]:p0val, parameter_names[1]:p1val}:\n",
    "                    heatmap[p0ndx,p1ndx] = sweep_data[i]['result'][mapper_key][species_names[species_ndx]][reducer_key]\n",
    "                    break\n",
    "    fig, ax = plt.subplots(figsize=(8,8))\n",
    "    plt.imshow(heatmap)\n",
    "    ax.set_xticks(numpy.arange(heatmap.shape[1])+0.5, minor=False)\n",
    "    ax.set_yticks(numpy.arange(heatmap.shape[0])+0.5, minor=False)\n",
    "    plt.title(\"Species: {0} Analysis {1}-{2}\".format(species_names[species_ndx], mapper_key, reducer_key))\n",
    "    ax.set_xticklabels(parameters[parameter_names[1]], minor=False, rotation=90)\n",
    "    ax.set_yticklabels(parameters[parameter_names[0]], minor=False)\n",
    "    ax.set_xlabel(parameter_names[1], fontsize=16, fontweight='bold')\n",
    "    ax.set_ylabel(parameter_names[0], fontsize=16, fontweight='bold')\n",
    "    divider = make_axes_locatable(ax)\n",
    "    cax = divider.append_axes(\"right\", size=\"5%\", pad=0.2)\n",
    "    _ = plt.colorbar(ax=ax, cax=cax)"
   ]
  },
  {
   "cell_type": "markdown",
   "metadata": {},
   "source": [
    "# Custom Post-processing example"
   ]
  },
  {
   "cell_type": "code",
   "execution_count": null,
   "metadata": {
    "collapsed": true
   },
   "outputs": [],
   "source": [
    "def exampleMapperFunction(result):\n",
    "    # return the value at the final timepoint for each species\n",
    "    mapped_data = numpy.zeros(len(result.keys()))\n",
    "    for i,s in enumerate(sorted(result.keys())):\n",
    "        mapped_data[i] = result[s][-1]\n",
    "    return mapped_data"
   ]
  },
  {
   "cell_type": "code",
   "execution_count": null,
   "metadata": {
    "collapsed": true
   },
   "outputs": [],
   "source": [
    "def exampleReducerFunction(mapped_data_list):\n",
    "    # Calculate the coefficient of variation for each species\n",
    "    num_trajectories = len(mapped_data_list)\n",
    "    num_species = len(mapped_data_list[0])\n",
    "    mapped_data_list = numpy.array(mapped_data_list)\n",
    "    reduced_data = numpy.zeros(num_species)\n",
    "    if num_trajectories == 1:\n",
    "        return numpy.array([0]*num_species)\n",
    "    else:\n",
    "        for i in range(num_species):\n",
    "            reduced_data[i] = numpy.sqrt(numpy.var(mapped_data_list[:,i]))/numpy.mean(mapped_data_list[:,i])\n",
    "    return reduced_data"
   ]
  },
  {
   "cell_type": "code",
   "execution_count": null,
   "metadata": {
    "collapsed": true
   },
   "outputs": [],
   "source": [
    "%time example_sweep_data = stochss_parametersweep_program.run_local_parameter_sweep(parameters, mapper_fn=exampleMapperFunction, reducer_fn=exampleReducerFunction )"
   ]
  },
  {
   "cell_type": "code",
   "execution_count": null,
   "metadata": {
    "collapsed": true
   },
   "outputs": [],
   "source": [
    "species_ndx = 0\n",
    "if len(parameter_names) == 1:\n",
    "    plotdata = numpy.zeros(len(example_sweep_data))\n",
    "    xdata = numpy.zeros(len(example_sweep_data))\n",
    "    for i,d in enumerate(example_sweep_data):\n",
    "        plotdata[i] = d['result'][species_ndx]\n",
    "        xdata[i] = d['parameters'][parameter_names[0]]\n",
    "    fig, ax = plt.subplots(figsize=(8,8))\n",
    "    plt.title(\"Species: {0} Analysis {1}-{2}\".format(species_names[species_ndx], mapper_key, reducer_key))\n",
    "    plt.plot(xdata,plotdata)\n",
    "    plt.xlabel(parameter_names[0], fontsize=16, fontweight='bold')\n",
    "else:\n",
    "    from mpl_toolkits.axes_grid1 import make_axes_locatable\n",
    "    heatmap = numpy.zeros((len(parameters[parameter_names[0]]),len(parameters[parameter_names[1]])))\n",
    "    for p0ndx,p0val in enumerate(parameters[parameter_names[0]]):\n",
    "        for p1ndx,p1val in enumerate(parameters[parameter_names[1]]):\n",
    "            heatmap[p0ndx,p1ndx] = numpy.nan\n",
    "            for i in range(len(example_sweep_data)):\n",
    "                if example_sweep_data[i]['parameters'] == {parameter_names[0]:p0val, parameter_names[1]:p1val}:\n",
    "                    heatmap[p0ndx,p1ndx] = example_sweep_data[i]['result'][species_ndx]\n",
    "                    break\n",
    "    fig, ax = plt.subplots(figsize=(8,8))\n",
    "    plt.imshow(heatmap)\n",
    "    ax.set_xticks(numpy.arange(heatmap.shape[1])+0.5, minor=False)\n",
    "    ax.set_yticks(numpy.arange(heatmap.shape[0])+0.5, minor=False)\n",
    "    plt.title(\"Analyzing species: {0}\".format(species_names[species_ndx]))\n",
    "    ax.set_xticklabels(parameters[parameter_names[1]], minor=False, rotation=90)\n",
    "    ax.set_yticklabels(parameters[parameter_names[0]], minor=False)\n",
    "    ax.set_xlabel(parameter_names[1], fontsize=16, fontweight='bold')\n",
    "    ax.set_ylabel(parameter_names[0], fontsize=16, fontweight='bold')\n",
    "    divider = make_axes_locatable(ax)\n",
    "    cax = divider.append_axes(\"right\", size=\"5%\", pad=0.2)\n",
    "    _ = plt.colorbar(ax=ax, cax=cax)"
   ]
  },
  {
   "cell_type": "code",
   "execution_count": null,
   "metadata": {
    "collapsed": true
   },
   "outputs": [],
   "source": []
  },
  {
   "cell_type": "code",
   "execution_count": null,
   "metadata": {
    "collapsed": true
   },
   "outputs": [],
   "source": []
  },
  {
   "cell_type": "code",
   "execution_count": null,
   "metadata": {
    "collapsed": true
   },
   "outputs": [],
   "source": []
  },
  {
   "cell_type": "code",
   "execution_count": null,
   "metadata": {
    "collapsed": true
   },
   "outputs": [],
   "source": []
  },
  {
   "cell_type": "code",
   "execution_count": null,
   "metadata": {
    "collapsed": true
   },
   "outputs": [],
   "source": []
  }
 ],
 "metadata": {
  "kernelspec": {
   "display_name": "Python 2",
   "language": "python",
   "name": "python2"
  },
  "language_info": {
   "codemirror_mode": {
    "name": "ipython",
    "version": 2
   },
   "file_extension": ".py",
   "mimetype": "text/x-python",
   "name": "python",
   "nbconvert_exporter": "python",
   "pygments_lexer": "ipython2",
   "version": "2.7.10"
  }
 },
 "nbformat": 4,
 "nbformat_minor": 0
}
