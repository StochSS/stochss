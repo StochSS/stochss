{
 "cells": [
  {
   "cell_type": "markdown",
   "metadata": {},
   "source": [
    "# Oregonator\n",
    "***\n",
    "http://www.scholarpedia.org/article/Oregonator\n",
    "***\n",
    "## Setup the Environment\n",
    "***"
   ]
  },
  {
   "cell_type": "code",
   "execution_count": null,
   "metadata": {},
   "outputs": [],
   "source": [
    "import gillespy2"
   ]
  },
  {
   "cell_type": "markdown",
   "metadata": {},
   "source": [
    "***\n",
    "## Create the Oregonator Model\n",
    "***"
   ]
  },
  {
   "cell_type": "code",
   "execution_count": null,
   "metadata": {},
   "outputs": [],
   "source": [
    "def create_oregonator(parameter_values=None):\n",
    "    model = gillespy2.Model(name=\"Oregonator\")\n",
    "    model.volume = 1\n",
    "\n",
    "    # Variables\n",
    "    F = gillespy2.Species(name=\"F\", initial_value=2, mode=\"continuous\")\n",
    "    A = gillespy2.Species(name=\"A\", initial_value=250, mode=\"continuous\")\n",
    "    B = gillespy2.Species(name=\"B\", initial_value=500, mode=\"continuous\")\n",
    "    C = gillespy2.Species(name=\"C\", initial_value=1000, mode=\"continuous\")\n",
    "    P = gillespy2.Species(name=\"P\", initial_value=0, mode=\"continuous\")\n",
    "    model.add_species([F, A, B, C, P])\n",
    "\n",
    "    # Parameters\n",
    "    k1 = gillespy2.Parameter(name=\"k1\", expression=\"2\")\n",
    "    k2 = gillespy2.Parameter(name=\"k2\", expression=\"0.1\")\n",
    "    k3 = gillespy2.Parameter(name=\"k3\", expression=\"104\")\n",
    "    k4 = gillespy2.Parameter(name=\"k4\", expression=\"4e-07\")\n",
    "    k5 = gillespy2.Parameter(name=\"k5\", expression=\"26\")\n",
    "    model.add_parameter([k1, k2, k3, k4, k5])\n",
    "\n",
    "    # Reactions\n",
    "    reaction1 = gillespy2.Reaction(\n",
    "        name=\"reaction1\", rate=\"k1\",\n",
    "        reactants={'B': 1, 'F': 1}, products={'A': 1, 'F': 1}\n",
    "    )\n",
    "    reaction2 = gillespy2.Reaction(\n",
    "        name=\"reaction2\", rate=\"k2\",\n",
    "        reactants={'A': 1, 'B': 1}, products={'P': 1}\n",
    "    )\n",
    "    reaction3 = gillespy2.Reaction(\n",
    "        name=\"reaction3\", rate=\"k3\",\n",
    "        reactants={'A': 1, 'F': 1}, products={'A': 2, 'C': 1, 'F': 1}\n",
    "    )\n",
    "    reaction4 = gillespy2.Reaction(\n",
    "        name=\"reaction4\", rate=\"k4\",\n",
    "        reactants={'A': 2}, products={'P': 1}\n",
    "    )\n",
    "    reaction5 = gillespy2.Reaction(\n",
    "        name=\"reaction5\", rate=\"k5\",\n",
    "        reactants={'C': 1, 'F': 1}, products={'B': 1, 'F': 1}\n",
    "    )\n",
    "    model.add_reaction([reaction1, reaction2, reaction3, reaction4, reaction5])\n",
    "\n",
    "    # Timespan\n",
    "    tspan = gillespy2.TimeSpan.arange(0.1, t=5)\n",
    "    model.timespan(tspan)\n",
    "    return model"
   ]
  },
  {
   "cell_type": "markdown",
   "metadata": {},
   "source": [
    "### Instantiate the Model"
   ]
  },
  {
   "cell_type": "code",
   "execution_count": null,
   "metadata": {},
   "outputs": [],
   "source": [
    "model = create_oregonator()"
   ]
  },
  {
   "cell_type": "markdown",
   "metadata": {},
   "source": [
    "***\n",
    "## Simulation Parameters\n",
    "***"
   ]
  },
  {
   "cell_type": "code",
   "execution_count": null,
   "metadata": {},
   "outputs": [],
   "source": [
    "def configure_simulation():\n",
    "    kwargs = {\n",
    "        # \"algorithm\":\"Tau-Hybrid\",\n",
    "        \"number_of_trajectories\":100,\n",
    "        # \"seed\":None,\n",
    "        # \"tau_tol\":0.03,\n",
    "        # \"integrator_options\":{'rtol': 0.001, 'atol': 1e-06},\n",
    "    }\n",
    "    return kwargs"
   ]
  },
  {
   "cell_type": "markdown",
   "metadata": {},
   "source": [
    "***\n",
    "## Run the Simulation\n",
    "***"
   ]
  },
  {
   "cell_type": "code",
   "execution_count": null,
   "metadata": {},
   "outputs": [],
   "source": [
    "kwargs = configure_simulation()\n",
    "results = model.run(**kwargs)"
   ]
  },
  {
   "cell_type": "markdown",
   "metadata": {},
   "source": [
    "***\n",
    "## Visualization\n",
    "***"
   ]
  },
  {
   "cell_type": "code",
   "execution_count": null,
   "metadata": {},
   "outputs": [],
   "source": [
    "results.plotplotly()"
   ]
  }
 ],
 "metadata": {
  "kernelspec": {
   "display_name": "Python 3",
   "language": "python",
   "name": "python3"
  },
  "language_info": {
   "codemirror_mode": {
    "name": "ipython",
    "version": 3
   },
   "file_extension": ".py",
   "mimetype": "text/x-python",
   "name": "python",
   "nbconvert_exporter": "python",
   "pygments_lexer": "ipython3",
   "version": "3.8.5"
  }
 },
 "nbformat": 4,
 "nbformat_minor": 4
}
