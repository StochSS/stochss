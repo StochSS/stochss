{
 "cells": [
  {
   "cell_type": "markdown",
   "metadata": {},
   "source": [
    "# Genetic Toggle Switch\n",
    "***\n",
    "Gardner et al. Nature (1999) 'Construction of a genetic toggle switch in Escherichia coli'\n",
    "***\n",
    "## Setup the Environment\n",
    "***"
   ]
  },
  {
   "cell_type": "code",
   "execution_count": null,
   "metadata": {},
   "outputs": [],
   "source": [
    "import numpy\n",
    "from tsfresh.feature_extraction.settings import MinimalFCParameters\n",
    "from dask.distributed import Client\n",
    "from sklearn.metrics import mean_absolute_error"
   ]
  },
  {
   "cell_type": "code",
   "execution_count": null,
   "metadata": {},
   "outputs": [],
   "source": [
    "import gillespy2"
   ]
  },
  {
   "cell_type": "code",
   "execution_count": null,
   "metadata": {},
   "outputs": [],
   "source": [
    "from sciope.utilities.priors import uniform_prior\n",
    "from sciope.utilities.summarystats import auto_tsfresh\n",
    "from sciope.utilities.distancefunctions import naive_squared\n",
    "from sciope.inference.abc_inference import ABC"
   ]
  },
  {
   "cell_type": "markdown",
   "metadata": {},
   "source": [
    "***\n",
    "## Create the Genetic Toggle Switch Model\n",
    "***"
   ]
  },
  {
   "cell_type": "code",
   "execution_count": null,
   "metadata": {},
   "outputs": [],
   "source": [
    "def create_genetic_toggle_switch(parameter_values=None):\n",
    "    model = gillespy2.Model(name=\"Toggle_Switch\")\n",
    "    model.volume = 1\n",
    "\n",
    "    # Variables\n",
    "    U = gillespy2.Species(name=\"U\", initial_value=10, mode=\"discrete\")\n",
    "    V = gillespy2.Species(name=\"V\", initial_value=10, mode=\"discrete\")\n",
    "    model.add_species([U, V])\n",
    "\n",
    "    # Parameters\n",
    "    alpha1 = gillespy2.Parameter(name=\"alpha1\", expression=\"1\")\n",
    "    alpha2 = gillespy2.Parameter(name=\"alpha2\", expression=\"1\")\n",
    "    beta = gillespy2.Parameter(name=\"beta\", expression=\"2\")\n",
    "    gamma = gillespy2.Parameter(name=\"gamma\", expression=\"2\")\n",
    "    mu = gillespy2.Parameter(name=\"mu\", expression=\"1\")\n",
    "    model.add_parameter([alpha1, alpha2, beta, gamma, mu])\n",
    "\n",
    "    # Reactions\n",
    "    cu = gillespy2.Reaction(\n",
    "        name=\"cu\",\n",
    "        reactants={}, products={'U': 1},\n",
    "        propensity_function=\"alpha1/(1+pow(V,beta))\",\n",
    "        ode_propensity_function=\"alpha1/(1+pow(V,beta))\"\n",
    "    )\n",
    "    cv = gillespy2.Reaction(\n",
    "        name=\"cv\",\n",
    "        reactants={}, products={'V': 1},\n",
    "        propensity_function=\"alpha2/(1+pow(U,gamma))\",\n",
    "        ode_propensity_function=\"alpha2/(1+pow(U,gamma))\"\n",
    "    )\n",
    "    du = gillespy2.Reaction(\n",
    "        name=\"du\", rate=\"mu\",\n",
    "        reactants={'U': 1}, products={}\n",
    "    )\n",
    "    dv = gillespy2.Reaction(\n",
    "        name=\"dv\", rate=\"mu\",\n",
    "        reactants={'V': 1}, products={}\n",
    "    )\n",
    "    model.add_reaction([cu, cv, du, dv])\n",
    "\n",
    "    # Timespan\n",
    "    tspan = gillespy2.TimeSpan.arange(1, t=101)\n",
    "    model.timespan(tspan)\n",
    "    return model"
   ]
  },
  {
   "cell_type": "markdown",
   "metadata": {},
   "source": [
    "### Instantiate the Model"
   ]
  },
  {
   "cell_type": "code",
   "execution_count": null,
   "metadata": {},
   "outputs": [],
   "source": [
    "model = create_genetic_toggle_switch()"
   ]
  },
  {
   "cell_type": "markdown",
   "metadata": {},
   "source": [
    "***\n",
    "## Simulation Parameters\n",
    "***"
   ]
  },
  {
   "cell_type": "code",
   "execution_count": null,
   "metadata": {},
   "outputs": [],
   "source": [
    "def configure_simulation():\n",
    "    solver = gillespy2.SSACSolver(model=model)\n",
    "    kwargs = {\n",
    "        \"solver\":solver,\n",
    "        \"number_of_trajectories\":100,\n",
    "        # \"seed\":None,\n",
    "        # \"tau_tol\":0.03,\n",
    "        # \"integrator_options\":{'rtol': 0.001, 'atol': 1e-06},\n",
    "    }\n",
    "    return kwargs"
   ]
  },
  {
   "cell_type": "markdown",
   "metadata": {},
   "source": [
    "***\n",
    "## Model Inference\n",
    "***\n",
    "### Generate some fixed(observed) data based on default parameters of the model"
   ]
  },
  {
   "cell_type": "code",
   "execution_count": null,
   "metadata": {},
   "outputs": [],
   "source": [
    "kwargs = configure_simulation()\n",
    "fixed_data = model.run(**kwargs)"
   ]
  },
  {
   "cell_type": "markdown",
   "metadata": {},
   "source": [
    "Reshape the data and remove timepoints array"
   ]
  },
  {
   "cell_type": "code",
   "execution_count": null,
   "metadata": {},
   "outputs": [],
   "source": [
    "fixed_data = fixed_data.to_array()\n",
    "fixed_data = numpy.asarray([x.T for x in fixed_data])\n",
    "fixed_data = fixed_data[:, 1:, :]"
   ]
  },
  {
   "cell_type": "markdown",
   "metadata": {},
   "source": [
    "### Define prior distribution\n",
    "Take default from mode 1 as reference"
   ]
  },
  {
   "cell_type": "code",
   "execution_count": null,
   "metadata": {},
   "outputs": [],
   "source": [
    "default_param = numpy.array(list(model.listOfParameters.items()))[:, 1]\n",
    "\n",
    "bound = []\n",
    "for exp in default_param:\n",
    "    bound.append(float(exp.expression))\n",
    "\n",
    "# Set the bounds\n",
    "bound = numpy.array(bound)\n",
    "dmin = bound * 0.1\n",
    "dmax = bound * 2.0\n",
    "\n",
    "# Here we use uniform prior\n",
    "uni_prior = uniform_prior.UniformPrior(dmin, dmax)"
   ]
  },
  {
   "cell_type": "markdown",
   "metadata": {},
   "source": [
    "### Define simulator"
   ]
  },
  {
   "cell_type": "code",
   "execution_count": null,
   "metadata": {},
   "outputs": [],
   "source": [
    "def get_variables(params, model):\n",
    "    # params - array, need to have the same order as model.listOfParameters\n",
    "    variables = {}\n",
    "    for e, pname in enumerate(model.listOfParameters.keys()):\n",
    "        variables[pname] = params[e]\n",
    "    return variables"
   ]
  },
  {
   "cell_type": "markdown",
   "metadata": {},
   "source": [
    "Here we use the GillesPy2 Solver"
   ]
  },
  {
   "cell_type": "code",
   "execution_count": null,
   "metadata": {},
   "outputs": [],
   "source": [
    "def simulator(params, model):\n",
    "    variables = get_variables(params, model)\n",
    "\n",
    "    res = model.run(**kwargs, variables=variables)\n",
    "    res = res.to_array()\n",
    "    tot_res = numpy.asarray([x.T for x in res]) # reshape to (N, S, T)\n",
    "    # should not contain timepoints\n",
    "    tot_res = tot_res[:, 1:, :]\n",
    "\n",
    "    return tot_res"
   ]
  },
  {
   "cell_type": "markdown",
   "metadata": {},
   "source": [
    "Wrapper, simulator function to abc should should only take one argument (the parameter point)"
   ]
  },
  {
   "cell_type": "code",
   "execution_count": null,
   "metadata": {},
   "outputs": [],
   "source": [
    "def simulator2(x):\n",
    "    return simulator(x, model=model)"
   ]
  },
  {
   "cell_type": "markdown",
   "metadata": {},
   "source": [
    "### Define summary statistics and distance function\n",
    "Function to generate summary statistics"
   ]
  },
  {
   "cell_type": "code",
   "execution_count": null,
   "metadata": {},
   "outputs": [],
   "source": [
    "summ_func = auto_tsfresh.SummariesTSFRESH()\n",
    "\n",
    "# Distance\n",
    "ns = naive_squared.NaiveSquaredDistance()"
   ]
  },
  {
   "cell_type": "markdown",
   "metadata": {},
   "source": [
    "### Start local cluster using dask client"
   ]
  },
  {
   "cell_type": "code",
   "execution_count": null,
   "metadata": {},
   "outputs": [],
   "source": [
    "c = Client()\n",
    "c"
   ]
  },
  {
   "cell_type": "markdown",
   "metadata": {},
   "source": [
    "***\n",
    "## Run the abc instance\n",
    "***"
   ]
  },
  {
   "cell_type": "code",
   "execution_count": null,
   "metadata": {},
   "outputs": [],
   "source": [
    "abc = ABC(\n",
    "    fixed_data, sim=simulator2, prior_function=uni_prior,\n",
    "    summaries_function=summ_func.compute, distance_function=ns\n",
    ")"
   ]
  },
  {
   "cell_type": "markdown",
   "metadata": {},
   "source": [
    "First compute the fixed(observed) mean"
   ]
  },
  {
   "cell_type": "code",
   "execution_count": null,
   "metadata": {},
   "outputs": [],
   "source": [
    "abc.compute_fixed_mean(chunk_size=2)"
   ]
  },
  {
   "cell_type": "code",
   "execution_count": null,
   "metadata": {},
   "outputs": [],
   "source": [
    "res = abc.infer(num_samples=100, batch_size=10, chunk_size=2)"
   ]
  },
  {
   "cell_type": "code",
   "execution_count": null,
   "metadata": {},
   "outputs": [],
   "source": [
    "mae_inference = mean_absolute_error(bound, abc.results['inferred_parameters'])"
   ]
  }
 ],
 "metadata": {
  "kernelspec": {
   "display_name": "Python 3",
   "language": "python",
   "name": "python3"
  },
  "language_info": {
   "codemirror_mode": {
    "name": "ipython",
    "version": 3
   },
   "file_extension": ".py",
   "mimetype": "text/x-python",
   "name": "python",
   "nbconvert_exporter": "python",
   "pygments_lexer": "ipython3",
   "version": "3.8.5"
  }
 },
 "nbformat": 4,
 "nbformat_minor": 4
}
