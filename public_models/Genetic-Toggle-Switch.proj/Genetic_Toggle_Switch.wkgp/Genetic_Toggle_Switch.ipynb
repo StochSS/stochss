{
 "cells": [
  {
   "cell_type": "markdown",
   "metadata": {},
   "source": [
    "# Genetic Toggle Switch\n",
    "***\n",
    "Gardner et al. Nature (1999) 'Construction of a genetic toggle switch in Escherichia coli'\n",
    "***\n",
    "## Setup the Environment\n",
    "***"
   ]
  },
  {
   "cell_type": "code",
   "execution_count": null,
   "metadata": {},
   "outputs": [],
   "source": [
    "import gillespy2"
   ]
  },
  {
   "cell_type": "markdown",
   "metadata": {},
   "source": [
    "***\n",
    "## Create the Genetic Toggle Switch Model\n",
    "***"
   ]
  },
  {
   "cell_type": "code",
   "execution_count": null,
   "metadata": {},
   "outputs": [],
   "source": [
    "def create_genetic_toggle_switch(parameter_values=None):\n",
    "    model = gillespy2.Model(name=\"Toggle_Switch\")\n",
    "    model.volume = 1\n",
    "\n",
    "    # Variables\n",
    "    U = gillespy2.Species(name=\"U\", initial_value=10, mode=\"discrete\")\n",
    "    V = gillespy2.Species(name=\"V\", initial_value=10, mode=\"discrete\")\n",
    "    model.add_species([U, V])\n",
    "\n",
    "    # Parameters\n",
    "    alpha1 = gillespy2.Parameter(name=\"alpha1\", expression=\"1\")\n",
    "    alpha2 = gillespy2.Parameter(name=\"alpha2\", expression=\"1\")\n",
    "    beta = gillespy2.Parameter(name=\"beta\", expression=\"2\")\n",
    "    gamma = gillespy2.Parameter(name=\"gamma\", expression=\"2\")\n",
    "    mu = gillespy2.Parameter(name=\"mu\", expression=\"1\")\n",
    "    model.add_parameter([alpha1, alpha2, beta, gamma, mu])\n",
    "\n",
    "    # Reactions\n",
    "    cu = gillespy2.Reaction(\n",
    "        name=\"cu\",\n",
    "        reactants={}, products={'U': 1},\n",
    "        propensity_function=\"alpha1/(1+pow(V,beta))\",\n",
    "        ode_propensity_function=\"alpha1/(1+pow(V,beta))\"\n",
    "    )\n",
    "    cv = gillespy2.Reaction(\n",
    "        name=\"cv\",\n",
    "        reactants={}, products={'V': 1},\n",
    "        propensity_function=\"alpha2/(1+pow(U,gamma))\",\n",
    "        ode_propensity_function=\"alpha2/(1+pow(U,gamma))\"\n",
    "    )\n",
    "    du = gillespy2.Reaction(\n",
    "        name=\"du\", rate=\"mu\",\n",
    "        reactants={'U': 1}, products={}\n",
    "    )\n",
    "    dv = gillespy2.Reaction(\n",
    "        name=\"dv\", rate=\"mu\",\n",
    "        reactants={'V': 1}, products={}\n",
    "    )\n",
    "    model.add_reaction([cu, cv, du, dv])\n",
    "\n",
    "    # Timespan\n",
    "    tspan = gillespy2.TimeSpan.arange(1, t=101)\n",
    "    model.timespan(tspan)\n",
    "    return model"
   ]
  },
  {
   "cell_type": "markdown",
   "metadata": {},
   "source": [
    "### Instantiate the Model"
   ]
  },
  {
   "cell_type": "code",
   "execution_count": null,
   "metadata": {},
   "outputs": [],
   "source": [
    "model = create_genetic_toggle_switch()"
   ]
  },
  {
   "cell_type": "markdown",
   "metadata": {},
   "source": [
    "***\n",
    "## Simulation Parameters\n",
    "***"
   ]
  },
  {
   "cell_type": "code",
   "execution_count": null,
   "metadata": {},
   "outputs": [],
   "source": [
    "def configure_simulation():\n",
    "    kwargs = {\n",
    "        # \"algorithm\":\"SSA\",\n",
    "        \"number_of_trajectories\":1,\n",
    "        # \"seed\":None,\n",
    "        # \"tau_tol\":0.03,\n",
    "        # \"integrator_options\":{'rtol': 0.001, 'atol': 1e-06},\n",
    "    }\n",
    "    return kwargs"
   ]
  },
  {
   "cell_type": "markdown",
   "metadata": {},
   "source": [
    "***\n",
    "## Run the Simulation\n",
    "***"
   ]
  },
  {
   "cell_type": "code",
   "execution_count": null,
   "metadata": {},
   "outputs": [],
   "source": [
    "kwargs = configure_simulation()\n",
    "results = model.run(**kwargs)"
   ]
  },
  {
   "cell_type": "markdown",
   "metadata": {},
   "source": [
    "***\n",
    "## Visualization\n",
    "***"
   ]
  },
  {
   "cell_type": "code",
   "execution_count": null,
   "metadata": {},
   "outputs": [],
   "source": [
    "results.plotplotly()"
   ]
  }
 ],
 "metadata": {
  "kernelspec": {
   "display_name": "Python 3",
   "language": "python",
   "name": "python3"
  },
  "language_info": {
   "codemirror_mode": {
    "name": "ipython",
    "version": 3
   },
   "file_extension": ".py",
   "mimetype": "text/x-python",
   "name": "python",
   "nbconvert_exporter": "python",
   "pygments_lexer": "ipython3",
   "version": "3.8.5"
  }
 },
 "nbformat": 4,
 "nbformat_minor": 4
}
