{
 "cells": [
  {
   "cell_type": "markdown",
   "metadata": {},
   "source": [
    "# Genetic Toggle Switch\n",
    "***\n",
    "Gardner et al. Nature (1999) 'Construction of a genetic toggle switch in Escherichia coli'\n",
    "***\n",
    "## Setup the Environment\n",
    "***"
   ]
  },
  {
   "cell_type": "code",
   "execution_count": null,
   "metadata": {},
   "outputs": [],
   "source": [
    "import numpy"
   ]
  },
  {
   "cell_type": "markdown",
   "metadata": {},
   "source": [
    "MatPlotLib and Plotly are used for creating custom visualizations"
   ]
  },
  {
   "cell_type": "code",
   "execution_count": null,
   "metadata": {},
   "outputs": [],
   "source": [
    "from matplotlib import pyplot as plt\n",
    "from mpl_toolkits.axes_grid1 import make_axes_locatable"
   ]
  },
  {
   "cell_type": "code",
   "execution_count": null,
   "metadata": {},
   "outputs": [],
   "source": [
    "from plotly.offline import iplot\n",
    "import plotly.graph_objs as go"
   ]
  },
  {
   "cell_type": "code",
   "execution_count": null,
   "metadata": {},
   "outputs": [],
   "source": [
    "import gillespy2"
   ]
  },
  {
   "cell_type": "markdown",
   "metadata": {},
   "source": [
    "***\n",
    "## Create the Genetic Toggle Switch Model\n",
    "***"
   ]
  },
  {
   "cell_type": "code",
   "execution_count": null,
   "metadata": {},
   "outputs": [],
   "source": [
    "def create_genetic_toggle_switch(parameter_values=None):\n",
    "    model = gillespy2.Model(name=\"Toggle_Switch\")\n",
    "    model.volume = 1\n",
    "\n",
    "    # Variables\n",
    "    U = gillespy2.Species(name=\"U\", initial_value=10, mode=\"discrete\")\n",
    "    V = gillespy2.Species(name=\"V\", initial_value=10, mode=\"discrete\")\n",
    "    model.add_species([U, V])\n",
    "\n",
    "    # Parameters\n",
    "    alpha1 = gillespy2.Parameter(name=\"alpha1\", expression=\"1\")\n",
    "    alpha2 = gillespy2.Parameter(name=\"alpha2\", expression=\"1\")\n",
    "    beta = gillespy2.Parameter(name=\"beta\", expression=\"2\")\n",
    "    gamma = gillespy2.Parameter(name=\"gamma\", expression=\"2\")\n",
    "    mu = gillespy2.Parameter(name=\"mu\", expression=\"1\")\n",
    "    model.add_parameter([alpha1, alpha2, beta, gamma, mu])\n",
    "\n",
    "    # Reactions\n",
    "    cu = gillespy2.Reaction(\n",
    "        name=\"cu\",\n",
    "        reactants={}, products={'U': 1},\n",
    "        propensity_function=\"alpha1/(1+pow(V,beta))\",\n",
    "        ode_propensity_function=\"alpha1/(1+pow(V,beta))\"\n",
    "    )\n",
    "    cv = gillespy2.Reaction(\n",
    "        name=\"cv\",\n",
    "        reactants={}, products={'V': 1},\n",
    "        propensity_function=\"alpha2/(1+pow(U,gamma))\",\n",
    "        ode_propensity_function=\"alpha2/(1+pow(U,gamma))\"\n",
    "    )\n",
    "    du = gillespy2.Reaction(\n",
    "        name=\"du\", rate=\"mu\",\n",
    "        reactants={'U': 1}, products={}\n",
    "    )\n",
    "    dv = gillespy2.Reaction(\n",
    "        name=\"dv\", rate=\"mu\",\n",
    "        reactants={'V': 1}, products={}\n",
    "    )\n",
    "    model.add_reaction([cu, cv, du, dv])\n",
    "\n",
    "    # Timespan\n",
    "    tspan = gillespy2.TimeSpan.arange(1, t=101)\n",
    "    model.timespan(tspan)\n",
    "    return model"
   ]
  },
  {
   "cell_type": "markdown",
   "metadata": {},
   "source": [
    "### Instantiate the Model"
   ]
  },
  {
   "cell_type": "code",
   "execution_count": null,
   "metadata": {},
   "outputs": [],
   "source": [
    "model = create_genetic_toggle_switch()"
   ]
  },
  {
   "cell_type": "markdown",
   "metadata": {},
   "source": [
    "***\n",
    "## Simulation Parameters\n",
    "***"
   ]
  },
  {
   "cell_type": "code",
   "execution_count": null,
   "metadata": {},
   "outputs": [],
   "source": [
    "def configure_simulation():\n",
    "    solver = gillespy2.SSACSolver(model=model)\n",
    "    kwargs = {\n",
    "        \"solver\":solver,\n",
    "        \"number_of_trajectories\":20,\n",
    "        # \"seed\":None,\n",
    "        # \"tau_tol\":0.03,\n",
    "        # \"integrator_options\":{'rtol': 0.001, 'atol': 1e-06},\n",
    "    }\n",
    "    return kwargs"
   ]
  },
  {
   "cell_type": "markdown",
   "metadata": {},
   "source": [
    "***\n",
    "## Post Processing\n",
    "***\n",
    "### Feature extraction function\n",
    "What value(s) do you want to extract from the simulation trajectory"
   ]
  },
  {
   "cell_type": "code",
   "execution_count": null,
   "metadata": {},
   "outputs": [],
   "source": [
    "def population_at_last_timepoint(c, res):\n",
    "    if c.verbose:\n",
    "        print(f'population_at_last_timepoint {c.variable_of_interest}={res[c.variable_of_interest][-1]}')\n",
    "    return res[c.variable_of_interest][-1]"
   ]
  },
  {
   "cell_type": "markdown",
   "metadata": {},
   "source": [
    "### Aggregation function\n",
    "How do we combine the values from multiple trajectores"
   ]
  },
  {
   "cell_type": "code",
   "execution_count": null,
   "metadata": {},
   "outputs": [],
   "source": [
    "def mean_std_of_ensemble(c, data):\n",
    "    a = numpy.average(data)\n",
    "    s = numpy.std(data)\n",
    "    if c.verbose:\n",
    "        print(f'mean_std_of_ensemble m:{a} s:{s}')\n",
    "    return (a, s)"
   ]
  },
  {
   "cell_type": "markdown",
   "metadata": {},
   "source": [
    "***\n",
    "## Parameter Sweep\n",
    "***"
   ]
  },
  {
   "cell_type": "code",
   "execution_count": null,
   "metadata": {},
   "outputs": [],
   "source": [
    "class ParameterSweep1D():\n",
    "\n",
    "    def run(c, kwargs, verbose=False):\n",
    "        c.verbose = verbose\n",
    "        fn = c.feature_extraction\n",
    "        ag = c.ensemble_aggragator\n",
    "        data = numpy.zeros((len(c.p1_range), 2)) # mean and std\n",
    "        for i, v1 in enumerate(c.p1_range):\n",
    "            if c.verbose:\n",
    "                print(f'running {c.p1}={v1}')\n",
    "            if(c.number_of_trajectories > 1):\n",
    "                tmp_results = model.run(**kwargs, variables={c.p1:v1})\n",
    "                (m, s) = ag([fn(x) for x in tmp_results])\n",
    "                data[i, 0] = m\n",
    "                data[i, 1] = s\n",
    "            else:\n",
    "                tmp_result = model.run(**kwargs, variables={c.p1:v1})\n",
    "                data[i, 0] = c.feature_extraction(tmp_result)\n",
    "        c.data = data\n",
    "\n",
    "\n",
    "    def plot(c):\n",
    "        fig, ax = plt.subplots(figsize=(8, 8))\n",
    "        plt.title(f'Parameter Sweep - Variable:{c.variable_of_interest}')\n",
    "        plt.errorbar(c.p1_range, c.data[:, 0], c.data[:, 1])\n",
    "        plt.xlabel(c.p1, fontsize=16, fontweight='bold')\n",
    "        plt.ylabel('Population', fontsize=16, fontweight='bold')\n",
    "\n",
    "\n",
    "    def plotplotly(c, return_plotly_figure=False):\n",
    "        visible = c.number_of_trajectories > 1\n",
    "        error_y = dict(type='data', array=c.data[:, 1], visible=visible)\n",
    "\n",
    "        trace_list = [go.Scatter(x=c.p1_range, y=c.data[:, 0], error_y=error_y)]\n",
    "\n",
    "        title = dict(text=f'<b>Parameter Sweep - Variable: {c.variable_of_interest}</b>', x=0.5)\n",
    "        yaxis_label = dict(title='<b>Population</b>')\n",
    "        xaxis_label = dict(title=f'<b>{c.p1}</b>')\n",
    "\n",
    "        layout = go.Layout(title=title, xaxis=xaxis_label, yaxis=yaxis_label)\n",
    "\n",
    "        fig = dict(data=trace_list, layout=layout)\n",
    "\n",
    "        if return_plotly_figure:\n",
    "            return fig\n",
    "        iplot(fig)"
   ]
  },
  {
   "cell_type": "code",
   "execution_count": null,
   "metadata": {},
   "outputs": [],
   "source": [
    "class ParameterSweepConfig(ParameterSweep1D):\n",
    "    # What class defines the GillesPy2 model\n",
    "    model = create_genetic_toggle_switch()\n",
    "    # ENTER PARAMETER HERE\n",
    "    p1 = 'alpha1'\n",
    "    # ENTER START VALUE FOR P1 RANGE HERE\n",
    "    p1_min = 0.5 * float(eval(model.get_parameter(p1).expression))\n",
    "    # ENTER END VALUE FOR P1 RANGE HERE\n",
    "    p1_max = 1.5 * float(eval(model.get_parameter(p1).expression))\n",
    "    # ENTER THE NUMBER OF STEPS FOR P1 HERE\n",
    "    p1_steps = 11\n",
    "    p1_range = numpy.linspace(p1_min, p1_max, p1_steps)\n",
    "    # ENTER VARIABLE OF INTEREST HERE\n",
    "    variable_of_interest = 'U'\n",
    "    number_of_trajectories = 20\n",
    "    # What feature of the simulation are we examining\n",
    "    feature_extraction = population_at_last_timepoint\n",
    "    # for ensemble resutls: how do we aggreggate the values\n",
    "    ensemble_aggragator = mean_std_of_ensemble"
   ]
  },
  {
   "cell_type": "markdown",
   "metadata": {},
   "source": [
    "***\n",
    "## Run the Parameter Sweep\n",
    "***"
   ]
  },
  {
   "cell_type": "code",
   "execution_count": null,
   "metadata": {},
   "outputs": [],
   "source": [
    "kwargs = configure_simulation()\n",
    "ps = ParameterSweepConfig()\n",
    "%time ps.run(kwargs)"
   ]
  },
  {
   "cell_type": "markdown",
   "metadata": {},
   "source": [
    "***\n",
    "## Visualization\n",
    "***"
   ]
  },
  {
   "cell_type": "code",
   "execution_count": null,
   "metadata": {},
   "outputs": [],
   "source": [
    "ps.plot()"
   ]
  },
  {
   "cell_type": "code",
   "execution_count": null,
   "metadata": {},
   "outputs": [],
   "source": [
    "ps.plotplotly()"
   ]
  }
 ],
 "metadata": {
  "kernelspec": {
   "display_name": "Python 3",
   "language": "python",
   "name": "python3"
  },
  "language_info": {
   "codemirror_mode": {
    "name": "ipython",
    "version": 3
   },
   "file_extension": ".py",
   "mimetype": "text/x-python",
   "name": "python",
   "nbconvert_exporter": "python",
   "pygments_lexer": "ipython3",
   "version": "3.8.5"
  }
 },
 "nbformat": 4,
 "nbformat_minor": 4
}
