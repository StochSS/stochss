{
 "cells": [
  {
   "cell_type": "markdown",
   "metadata": {},
   "source": [
    "# Genetic Toggle Switch\n",
    "***\n",
    "Gardner et al. Nature (1999) 'Construction of a genetic toggle switch in Escherichia coli'\n",
    "***\n",
    "## Setup the Environment\n",
    "***"
   ]
  },
  {
   "cell_type": "code",
   "execution_count": null,
   "metadata": {},
   "outputs": [],
   "source": [
    "import numpy\n",
    "from dask.distributed import Client"
   ]
  },
  {
   "cell_type": "code",
   "execution_count": null,
   "metadata": {},
   "outputs": [],
   "source": [
    "import gillespy2"
   ]
  },
  {
   "cell_type": "code",
   "execution_count": null,
   "metadata": {},
   "outputs": [],
   "source": [
    "from sciope.utilities.gillespy2 import wrapper\n",
    "from sciope.designs import latin_hypercube_sampling\n",
    "from sciope.utilities.summarystats.auto_tsfresh import SummariesTSFRESH\n",
    "from sciope.stochmet.stochmet import StochMET\n",
    "from sciope.models.label_propagation import LPModel"
   ]
  },
  {
   "cell_type": "markdown",
   "metadata": {},
   "source": [
    "***\n",
    "## Create the Genetic Toggle Switch Model\n",
    "***"
   ]
  },
  {
   "cell_type": "code",
   "execution_count": null,
   "metadata": {},
   "outputs": [],
   "source": [
    "def create_genetic_toggle_switch(parameter_values=None):\n",
    "    model = gillespy2.Model(name=\"Toggle_Switch\")\n",
    "    model.volume = 1\n",
    "\n",
    "    # Variables\n",
    "    U = gillespy2.Species(name=\"U\", initial_value=10, mode=\"discrete\")\n",
    "    V = gillespy2.Species(name=\"V\", initial_value=10, mode=\"discrete\")\n",
    "    model.add_species([U, V])\n",
    "\n",
    "    # Parameters\n",
    "    alpha1 = gillespy2.Parameter(name=\"alpha1\", expression=\"1\")\n",
    "    alpha2 = gillespy2.Parameter(name=\"alpha2\", expression=\"1\")\n",
    "    beta = gillespy2.Parameter(name=\"beta\", expression=\"2\")\n",
    "    gamma = gillespy2.Parameter(name=\"gamma\", expression=\"2\")\n",
    "    mu = gillespy2.Parameter(name=\"mu\", expression=\"1\")\n",
    "    model.add_parameter([alpha1, alpha2, beta, gamma, mu])\n",
    "\n",
    "    # Reactions\n",
    "    cu = gillespy2.Reaction(\n",
    "        name=\"cu\",\n",
    "        reactants={}, products={'U': 1},\n",
    "        propensity_function=\"alpha1/(1+pow(V,beta))\",\n",
    "        ode_propensity_function=\"alpha1/(1+pow(V,beta))\"\n",
    "    )\n",
    "    cv = gillespy2.Reaction(\n",
    "        name=\"cv\",\n",
    "        reactants={}, products={'V': 1},\n",
    "        propensity_function=\"alpha2/(1+pow(U,gamma))\",\n",
    "        ode_propensity_function=\"alpha2/(1+pow(U,gamma))\"\n",
    "    )\n",
    "    du = gillespy2.Reaction(\n",
    "        name=\"du\", rate=\"mu\",\n",
    "        reactants={'U': 1}, products={}\n",
    "    )\n",
    "    dv = gillespy2.Reaction(\n",
    "        name=\"dv\", rate=\"mu\",\n",
    "        reactants={'V': 1}, products={}\n",
    "    )\n",
    "    model.add_reaction([cu, cv, du, dv])\n",
    "\n",
    "    # Timespan\n",
    "    tspan = gillespy2.TimeSpan.arange(1, t=101)\n",
    "    model.timespan(tspan)\n",
    "    return model"
   ]
  },
  {
   "cell_type": "markdown",
   "metadata": {},
   "source": [
    "### Instantiate the Model"
   ]
  },
  {
   "cell_type": "code",
   "execution_count": null,
   "metadata": {},
   "outputs": [],
   "source": [
    "model = create_genetic_toggle_switch()"
   ]
  },
  {
   "cell_type": "markdown",
   "metadata": {},
   "source": [
    "***\n",
    "## Simulation Parameters\n",
    "***"
   ]
  },
  {
   "cell_type": "code",
   "execution_count": null,
   "metadata": {},
   "outputs": [],
   "source": [
    "def configure_simulation():\n",
    "    solver = gillespy2.SSACSolver(model=model)\n",
    "    kwargs = {\n",
    "        \"solver\":solver,\n",
    "        \"number_of_trajectories\":100,\n",
    "        # \"seed\":None,\n",
    "        # \"tau_tol\":0.03,\n",
    "        # \"integrator_options\":{'rtol': 0.001, 'atol': 1e-06},\n",
    "    }\n",
    "    return kwargs"
   ]
  },
  {
   "cell_type": "markdown",
   "metadata": {},
   "source": [
    "***\n",
    "## Model Exploration\n",
    "***\n",
    "### Define simulator function (using gillespy2 wrapper)"
   ]
  },
  {
   "cell_type": "code",
   "execution_count": null,
   "metadata": {},
   "outputs": [],
   "source": [
    "settings = configure_simulation()\n",
    "simulator = wrapper.get_simulator(gillespy_model=model, run_settings=settings, species_of_interest=['U', 'V'])\n",
    "expression_array = wrapper.get_parameter_expression_array(model)"
   ]
  },
  {
   "cell_type": "markdown",
   "metadata": {},
   "source": [
    "### Start local cluster using dask client"
   ]
  },
  {
   "cell_type": "code",
   "execution_count": null,
   "metadata": {},
   "outputs": [],
   "source": [
    "c = Client()\n",
    "c"
   ]
  },
  {
   "cell_type": "markdown",
   "metadata": {},
   "source": [
    "### Define parameter sampler/design and summary statistics"
   ]
  },
  {
   "cell_type": "code",
   "execution_count": null,
   "metadata": {},
   "outputs": [],
   "source": [
    "lhc = latin_hypercube_sampling.LatinHypercube(xmin=expression_array, xmax=expression_array*3)\n",
    "lhc.generate_array(1000) # creates a LHD of size 1000\n",
    "\n",
    "# will use default minimal set of features\n",
    "summary_stats = SummariesTSFRESH()"
   ]
  },
  {
   "cell_type": "markdown",
   "metadata": {},
   "source": [
    "### Initiate StochMET"
   ]
  },
  {
   "cell_type": "code",
   "execution_count": null,
   "metadata": {},
   "outputs": [],
   "source": [
    "met = StochMET(simulator, lhc, summary_stats)"
   ]
  },
  {
   "cell_type": "markdown",
   "metadata": {},
   "source": [
    "***\n",
    "## Run parameter sweep\n",
    "***"
   ]
  },
  {
   "cell_type": "code",
   "execution_count": null,
   "metadata": {},
   "outputs": [],
   "source": [
    "met.compute(n_points=500, chunk_size=10)"
   ]
  },
  {
   "cell_type": "markdown",
   "metadata": {},
   "source": [
    "***\n",
    "## Explore the result\n",
    "***\n",
    "First lets add some appropiate information about the model and features"
   ]
  },
  {
   "cell_type": "code",
   "execution_count": null,
   "metadata": {},
   "outputs": [],
   "source": [
    "met.data.configurations['listOfParameters'] = list(model.listOfParameters.keys())\n",
    "met.data.configurations['listOfSpecies'] = list(model.listOfSpecies.keys())\n",
    "met.data.configurations['listOfSummaries'] = met.summaries.features\n",
    "met.data.configurations['timepoints'] = model.tspan"
   ]
  },
  {
   "cell_type": "markdown",
   "metadata": {},
   "source": [
    "Here we use UMAP for dimension reduction"
   ]
  },
  {
   "cell_type": "code",
   "execution_count": null,
   "metadata": {},
   "outputs": [],
   "source": [
    "met.explore(dr_method='umap')"
   ]
  },
  {
   "cell_type": "markdown",
   "metadata": {},
   "source": [
    "Here lets use the dimension reduction embedding as input data"
   ]
  },
  {
   "cell_type": "code",
   "execution_count": null,
   "metadata": {},
   "outputs": [],
   "source": [
    "data = met.dr_model.embedding_\n",
    "\n",
    "model_lp = LPModel()\n",
    "# train using basinhopping\n",
    "model_lp.train(data, met.data.user_labels, min_=0.01, max_=10, niter=50)"
   ]
  },
  {
   "cell_type": "markdown",
   "metadata": {},
   "source": [
    "Just to vislualize the result we will map the label distribution to the user_labels (will enable us to see the LP model output when using method 'explore')"
   ]
  },
  {
   "cell_type": "code",
   "execution_count": null,
   "metadata": {},
   "outputs": [],
   "source": [
    "user_labels = numpy.copy(met.data.user_labels)\n",
    "# takes the label corresponding to index 0\n",
    "met.data.user_labels = model_lp.model.label_distributions_[:, 0]"
   ]
  },
  {
   "cell_type": "code",
   "execution_count": null,
   "metadata": {},
   "outputs": [],
   "source": [
    "met.explore(dr_method='umap')"
   ]
  },
  {
   "cell_type": "code",
   "execution_count": null,
   "metadata": {},
   "outputs": [],
   "source": [
    "met.data.user_labels = user_labels"
   ]
  }
 ],
 "metadata": {
  "kernelspec": {
   "display_name": "Python 3",
   "language": "python",
   "name": "python3"
  },
  "language_info": {
   "codemirror_mode": {
    "name": "ipython",
    "version": 3
   },
   "file_extension": ".py",
   "mimetype": "text/x-python",
   "name": "python",
   "nbconvert_exporter": "python",
   "pygments_lexer": "ipython3",
   "version": "3.8.5"
  }
 },
 "nbformat": 4,
 "nbformat_minor": 4
}
