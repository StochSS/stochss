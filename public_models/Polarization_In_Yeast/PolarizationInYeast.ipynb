{
 "cells": [
  {
   "cell_type": "code",
   "execution_count": null,
   "metadata": {},
   "outputs": [],
   "source": [
    "%load_ext autoreload\n",
    "%autoreload 2\n",
    "\n",
    "import numpy as np\n",
    "import spatialpy\n",
    "from spatialpy import Model, Species, Parameter, Reaction, Mesh,\\\n",
    "                      PlaceInitialCondition, \\\n",
    "                      UniformInitialCondition, \\\n",
    "                      ScatterInitialCondition"
   ]
  },
  {
   "cell_type": "markdown",
   "metadata": {},
   "source": [
    "# PolarizationInYeast"
   ]
  },
  {
   "cell_type": "code",
   "execution_count": null,
   "metadata": {},
   "outputs": [],
   "source": [
    "class PolarizationInYeast(Model):\n",
    "    def __init__(self):\n",
    "        Model.__init__(self, name=\"PolarizationInYeast\")\n",
    "\n",
    "        # Domain\n",
    "        mesh = Mesh.read_stochss_domain('PolarizationInYeast.smdl')\n",
    "        self.add_mesh(mesh)\n",
    "\n",
    "        self.staticDomain = True\n",
    "\n",
    "        # Variables\n",
    "        Cdc42c = Species(name=\"Cdc42c\", diffusion_constant=10)\n",
    "        Cdc42m = Species(name=\"Cdc42m\", diffusion_constant=0.0053)\n",
    "        self.add_species([Cdc42c, Cdc42m])\n",
    "\n",
    "        self.restrict(Cdc42m, [2])\n",
    "\n",
    "        # Initial Conditions\n",
    "        self.add_initial_condition(ScatterInitialCondition(species=Cdc42c, count=300, types=[1]))\n",
    "        self.add_initial_condition(ScatterInitialCondition(species=Cdc42m, count=100, types=[2]))\n",
    "\n",
    "        # Parameters\n",
    "        kon = Parameter(name=\"kon\", expression=\"1.6666666667e-05\")\n",
    "        koff = Parameter(name=\"koff\", expression=\"0.15\")\n",
    "        kfb = Parameter(name=\"kfb\", expression=\"0.166666666666667\")\n",
    "        self.add_parameter([kon, koff, kfb])\n",
    "\n",
    "        # Reactions\n",
    "        r1 = Reaction(name=\"r1\", reactants={Cdc42c: 1}, products={Cdc42m: 1}, rate=self.listOfParameters[\"kon\"])\n",
    "        r2 = Reaction(name=\"r2\", reactants={Cdc42m: 1}, products={Cdc42c: 1}, rate=self.listOfParameters[\"koff\"])\n",
    "        r3 = Reaction(name=\"r3\", restrict_to=[2], reactants={Cdc42c: 1, Cdc42m: 1}, products={Cdc42m: 2}, rate=self.listOfParameters[\"kfb\"])\n",
    "        self.add_reaction([r1, r2, r3])\n",
    "\n",
    "        # Timespan\n",
    "        self.timespan(np.arange(0, 5000, 10), timestep_size=10)"
   ]
  },
  {
   "cell_type": "code",
   "execution_count": null,
   "metadata": {},
   "outputs": [],
   "source": [
    "model = PolarizationInYeast()"
   ]
  },
  {
   "cell_type": "markdown",
   "metadata": {},
   "source": [
    "# Simulation Parameters"
   ]
  },
  {
   "cell_type": "code",
   "execution_count": null,
   "metadata": {},
   "outputs": [],
   "source": [
    "def configure_simulation():\n",
    "    kwargs = {\n",
    "        # \"number_of_trajectories\":1,\n",
    "        # \"seed\":None,\n",
    "    }\n",
    "    return kwargs"
   ]
  },
  {
   "cell_type": "code",
   "execution_count": null,
   "metadata": {},
   "outputs": [],
   "source": [
    "kwargs = configure_simulation()\n",
    "results = model.run(**kwargs)"
   ]
  },
  {
   "cell_type": "markdown",
   "metadata": {},
   "source": [
    "# Visualization"
   ]
  },
  {
   "cell_type": "code",
   "execution_count": null,
   "metadata": {},
   "outputs": [],
   "source": [
    "results.plot_species('Cdc42c', animated=True, width=None, height=None)"
   ]
  }
 ],
 "metadata": {},
 "nbformat": 4,
 "nbformat_minor": 4
}
