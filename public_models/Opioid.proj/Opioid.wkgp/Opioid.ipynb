{
 "cells": [
  {
   "cell_type": "markdown",
   "metadata": {},
   "source": [
    "# Opioid\n",
    "***\n",
    "Model based off the prescription opioid crisis in the United States. Based off a paper from the University of Tennessee https://0afa17f2-bd49-4985-b62b-358fb4a6bf3f.filesusr.com/ugd/f70b03_22c7703e4a3b4da6b9555c738ed8566d.pdf\n",
    "***\n",
    "## Setup the Environment\n",
    "***"
   ]
  },
  {
   "cell_type": "code",
   "execution_count": null,
   "metadata": {},
   "outputs": [],
   "source": [
    "import gillespy2"
   ]
  },
  {
   "cell_type": "markdown",
   "metadata": {},
   "source": [
    "***\n",
    "## Create the Opioid Model\n",
    "***"
   ]
  },
  {
   "cell_type": "code",
   "execution_count": null,
   "metadata": {},
   "outputs": [],
   "source": [
    "def create_opioid(parameter_values=None):\n",
    "    model = gillespy2.Model(name=\"Opioid\")\n",
    "    model.volume = 1\n",
    "\n",
    "    # Variables\n",
    "    Susceptible = gillespy2.Species(name=\"Susceptible\", initial_value=1000, mode=\"discrete\")\n",
    "    Prescribed_User = gillespy2.Species(name=\"Prescribed_User\", initial_value=0, mode=\"discrete\")\n",
    "    Addicted = gillespy2.Species(name=\"Addicted\", initial_value=0, mode=\"discrete\")\n",
    "    Rehab = gillespy2.Species(name=\"Rehab\", initial_value=0, mode=\"discrete\")\n",
    "    Natural_Deaths = gillespy2.Species(name=\"Natural_Deaths\", initial_value=0, mode=\"discrete\")\n",
    "    Addicted_Deaths = gillespy2.Species(name=\"Addicted_Deaths\", initial_value=0, mode=\"discrete\")\n",
    "    model.add_species([Susceptible, Prescribed_User, Addicted, Rehab, Natural_Deaths, Addicted_Deaths])\n",
    "\n",
    "    # Parameters\n",
    "    alpha = gillespy2.Parameter(name=\"alpha\", expression=\"0.15\")\n",
    "    epsilon = gillespy2.Parameter(name=\"epsilon\", expression=\"0.8\")\n",
    "    beta_p = gillespy2.Parameter(name=\"beta_p\", expression=\"0.00266\")\n",
    "    beta_a = gillespy2.Parameter(name=\"beta_a\", expression=\"0.00094\")\n",
    "    gamma = gillespy2.Parameter(name=\"gamma\", expression=\"0.00744\")\n",
    "    zeta = gillespy2.Parameter(name=\"zeta\", expression=\"0.2\")\n",
    "    delta = gillespy2.Parameter(name=\"delta\", expression=\"0.1\")\n",
    "    sigma = gillespy2.Parameter(name=\"sigma\", expression=\"0.9\")\n",
    "    mu = gillespy2.Parameter(name=\"mu\", expression=\"0.00729\")\n",
    "    mu_prime = gillespy2.Parameter(name=\"mu_prime\", expression=\"0.01159\")\n",
    "    model.add_parameter([alpha, epsilon, beta_p, beta_a, gamma, zeta, delta, sigma, mu, mu_prime])\n",
    "\n",
    "    # Reactions\n",
    "    SP = gillespy2.Reaction(\n",
    "        name=\"SP\", rate=\"alpha\",\n",
    "        reactants={'Susceptible': 1}, products={'Prescribed_User': 1}\n",
    "    )\n",
    "    SA_a = gillespy2.Reaction(\n",
    "        name=\"SA_a\", rate=\"beta_a\",\n",
    "        reactants={'Susceptible': 1}, products={'Addicted': 1}\n",
    "    )\n",
    "    SA_p = gillespy2.Reaction(\n",
    "        name=\"SA_p\", rate=\"beta_p\",\n",
    "        reactants={'Susceptible': 1}, products={'Addicted': 1}\n",
    "    )\n",
    "    PA = gillespy2.Reaction(\n",
    "        name=\"PA\", rate=\"gamma\",\n",
    "        reactants={'Prescribed_User': 1}, products={'Addicted': 1}\n",
    "    )\n",
    "    PS = gillespy2.Reaction(\n",
    "        name=\"PS\", rate=\"epsilon\",\n",
    "        reactants={'Prescribed_User': 1}, products={'Susceptible': 1}\n",
    "    )\n",
    "    AR = gillespy2.Reaction(\n",
    "        name=\"AR\", rate=\"zeta\",\n",
    "        reactants={'Addicted': 1}, products={'Rehab': 1}\n",
    "    )\n",
    "    RA = gillespy2.Reaction(\n",
    "        name=\"RA\", rate=\"delta\",\n",
    "        reactants={'Rehab': 1}, products={'Addicted': 1}\n",
    "    )\n",
    "    RS = gillespy2.Reaction(\n",
    "        name=\"RS\", rate=\"sigma\",\n",
    "        reactants={'Rehab': 1}, products={'Susceptible': 1}\n",
    "    )\n",
    "    mu_S = gillespy2.Reaction(\n",
    "        name=\"mu_S\", rate=\"mu\",\n",
    "        reactants={'Susceptible': 1}, products={'Susceptible': 1, 'Natural_Deaths': 1}\n",
    "    )\n",
    "    mu_P = gillespy2.Reaction(\n",
    "        name=\"mu_P\", rate=\"mu\",\n",
    "        reactants={'Prescribed_User': 1}, products={'Susceptible': 1, 'Natural_Deaths': 1}\n",
    "    )\n",
    "    mu_R = gillespy2.Reaction(\n",
    "        name=\"mu_R\", rate=\"mu\",\n",
    "        reactants={'Rehab': 1}, products={'Susceptible': 1, 'Natural_Deaths': 1}\n",
    "    )\n",
    "    mu_prime_A = gillespy2.Reaction(\n",
    "        name=\"mu_prime_A\", rate=\"mu_prime\",\n",
    "        reactants={'Addicted': 1}, products={'Susceptible': 1, 'Addicted_Deaths': 1}\n",
    "    )\n",
    "    model.add_reaction([SP, SA_a, SA_p, PA, PS, AR, RA, RS, mu_S, mu_P, mu_R, mu_prime_A])\n",
    "\n",
    "    # Timespan\n",
    "    tspan = gillespy2.TimeSpan.arange(1, t=200)\n",
    "    model.timespan(tspan)\n",
    "    return model"
   ]
  },
  {
   "cell_type": "markdown",
   "metadata": {},
   "source": [
    "### Instantiate the Model"
   ]
  },
  {
   "cell_type": "code",
   "execution_count": null,
   "metadata": {},
   "outputs": [],
   "source": [
    "model = create_opioid()"
   ]
  },
  {
   "cell_type": "markdown",
   "metadata": {},
   "source": [
    "***\n",
    "## Simulation Parameters\n",
    "***"
   ]
  },
  {
   "cell_type": "code",
   "execution_count": null,
   "metadata": {},
   "outputs": [],
   "source": [
    "def configure_simulation():\n",
    "    kwargs = {\n",
    "        # \"algorithm\":\"SSA\",\n",
    "        \"number_of_trajectories\":100,\n",
    "        # \"seed\":None,\n",
    "        # \"tau_tol\":0.03,\n",
    "        # \"integrator_options\":{'rtol': 0.001, 'atol': 1e-06},\n",
    "    }\n",
    "    return kwargs"
   ]
  },
  {
   "cell_type": "markdown",
   "metadata": {},
   "source": [
    "***\n",
    "## Run the Simulation\n",
    "***"
   ]
  },
  {
   "cell_type": "code",
   "execution_count": null,
   "metadata": {},
   "outputs": [],
   "source": [
    "kwargs = configure_simulation()\n",
    "results = model.run(**kwargs)"
   ]
  },
  {
   "cell_type": "markdown",
   "metadata": {},
   "source": [
    "***\n",
    "## Visualization\n",
    "***"
   ]
  },
  {
   "cell_type": "code",
   "execution_count": null,
   "metadata": {},
   "outputs": [],
   "source": [
    "results.plotplotly()"
   ]
  }
 ],
 "metadata": {
  "kernelspec": {
   "display_name": "Python 3",
   "language": "python",
   "name": "python3"
  },
  "language_info": {
   "codemirror_mode": {
    "name": "ipython",
    "version": 3
   },
   "file_extension": ".py",
   "mimetype": "text/x-python",
   "name": "python",
   "nbconvert_exporter": "python",
   "pygments_lexer": "ipython3",
   "version": "3.8.5"
  }
 },
 "nbformat": 4,
 "nbformat_minor": 4
}
