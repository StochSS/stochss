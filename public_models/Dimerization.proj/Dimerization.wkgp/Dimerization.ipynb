{
 "cells": [
  {
   "cell_type": "markdown",
   "metadata": {},
   "source": [
    "# Dimerization\n",
    "***\n",
    "This file contains a simple example to demonstrate the use of GillesPy2 to perform a stochastic simulation. The example is biologically-motivated; however, in terms of biology, it is overly simplistic and does not capture the real-life complexity of the process being modeled -- the aim is not biological realism but rather to illustrate basic usage of GillesPy2.\n",
    "\n",
    "Some molecules can self-associate to form structures known as dimers. \"Dimerization\" is a process in which two molecules of some molecular species (known as a \"monomer\" in this situation -- let's call it \"M\" for short) come together to create a new molecule (call it \"D\"), but do so in a way that is reversible, meaning the combined structure can also decay or dissociate back into \"M\". (More information about dimerization can be found in the online book \"Molecular Biology of the Cell\", 4th edition, at the site https://www.ncbi.nlm.nih.gov/books/NBK26830/.) A simple model of the dimerization process represents it as two reactions: a reaction in which one molecule of \"M\" reacts reversibly with another molecule of \"M\" to form one new molecule (call it \"D\"), and another reaction in which a molecule of \"D\" breaks apart into two molecules of \"M\". Each of these two reactions has its own rate. In terms of biochemical reactions, it looks like this:\n",
    "\n",
    "kc 2 M <----> D kd\n",
    "where kc and kd represent the rate constants for creation and dissociation of the dimer, respectively.\n",
    "***\n",
    "## Setup the Environment\n",
    "***"
   ]
  },
  {
   "cell_type": "code",
   "execution_count": null,
   "metadata": {},
   "outputs": [],
   "source": [
    "import gillespy2"
   ]
  },
  {
   "cell_type": "markdown",
   "metadata": {},
   "source": [
    "***\n",
    "## Create the Dimerization Model\n",
    "***"
   ]
  },
  {
   "cell_type": "code",
   "execution_count": null,
   "metadata": {},
   "outputs": [],
   "source": [
    "def create_dimerization(parameter_values=None):\n",
    "    model = gillespy2.Model(name=\"Dimerization\")\n",
    "    model.volume = 1\n",
    "\n",
    "    # Variables\n",
    "    Monomer = gillespy2.Species(name=\"Monomer\", initial_value=30, mode=\"discrete\")\n",
    "    Dimer = gillespy2.Species(name=\"Dimer\", initial_value=0, mode=\"discrete\")\n",
    "    model.add_species([Monomer, Dimer])\n",
    "\n",
    "    # Parameters\n",
    "    k_c = gillespy2.Parameter(name=\"k_c\", expression=\"0.005\")\n",
    "    k_d = gillespy2.Parameter(name=\"k_d\", expression=\"0.08\")\n",
    "    model.add_parameter([k_c, k_d])\n",
    "\n",
    "    # Reactions\n",
    "    r_creation = gillespy2.Reaction(\n",
    "        name=\"r_creation\", rate=\"k_c\",\n",
    "        reactants={'Monomer': 2}, products={'Dimer': 1}\n",
    "    )\n",
    "    r_dissociation = gillespy2.Reaction(\n",
    "        name=\"r_dissociation\", rate=\"k_d\",\n",
    "        reactants={'Dimer': 1}, products={'Monomer': 2}\n",
    "    )\n",
    "    model.add_reaction([r_creation, r_dissociation])\n",
    "\n",
    "    # Timespan\n",
    "    tspan = gillespy2.TimeSpan.arange(1, t=100)\n",
    "    model.timespan(tspan)\n",
    "    return model"
   ]
  },
  {
   "cell_type": "markdown",
   "metadata": {},
   "source": [
    "### Instantiate the Model"
   ]
  },
  {
   "cell_type": "code",
   "execution_count": null,
   "metadata": {},
   "outputs": [],
   "source": [
    "model = create_dimerization()"
   ]
  },
  {
   "cell_type": "markdown",
   "metadata": {},
   "source": [
    "***\n",
    "## Simulation Parameters\n",
    "***"
   ]
  },
  {
   "cell_type": "code",
   "execution_count": null,
   "metadata": {},
   "outputs": [],
   "source": [
    "def configure_simulation():\n",
    "    kwargs = {\n",
    "        # \"algorithm\":\"SSA\",\n",
    "        \"number_of_trajectories\":100,\n",
    "        # \"seed\":None,\n",
    "        # \"tau_tol\":0.03,\n",
    "        # \"integrator_options\":{'rtol': 0.001, 'atol': 1e-06},\n",
    "    }\n",
    "    return kwargs"
   ]
  },
  {
   "cell_type": "markdown",
   "metadata": {},
   "source": [
    "***\n",
    "## Run the Simulation\n",
    "***"
   ]
  },
  {
   "cell_type": "code",
   "execution_count": null,
   "metadata": {},
   "outputs": [],
   "source": [
    "kwargs = configure_simulation()\n",
    "results = model.run(**kwargs)"
   ]
  },
  {
   "cell_type": "markdown",
   "metadata": {},
   "source": [
    "***\n",
    "## Visualization\n",
    "***"
   ]
  },
  {
   "cell_type": "code",
   "execution_count": null,
   "metadata": {},
   "outputs": [],
   "source": [
    "results.plotplotly()"
   ]
  }
 ],
 "metadata": {
  "kernelspec": {
   "display_name": "Python 3",
   "language": "python",
   "name": "python3"
  },
  "language_info": {
   "codemirror_mode": {
    "name": "ipython",
    "version": 3
   },
   "file_extension": ".py",
   "mimetype": "text/x-python",
   "name": "python",
   "nbconvert_exporter": "python",
   "pygments_lexer": "ipython3",
   "version": "3.8.5"
  }
 },
 "nbformat": 4,
 "nbformat_minor": 4
}
