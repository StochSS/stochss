{
 "cells": [
  {
   "cell_type": "markdown",
   "metadata": {},
   "source": [
    "# Michaelis Menten\n",
    "***\n",
    "## Setup the Environment\n",
    "***"
   ]
  },
  {
   "cell_type": "code",
   "execution_count": null,
   "metadata": {},
   "outputs": [],
   "source": [
    "import gillespy2"
   ]
  },
  {
   "cell_type": "markdown",
   "metadata": {},
   "source": [
    "***\n",
    "## Create the Michaelis Menten Model\n",
    "***"
   ]
  },
  {
   "cell_type": "code",
   "execution_count": null,
   "metadata": {},
   "outputs": [],
   "source": [
    "def create_michaelis_menten(parameter_values=None):\n",
    "    model = gillespy2.Model(name=\"Michaelis_Menten\")\n",
    "    model.volume = 1\n",
    "\n",
    "    # Variables\n",
    "    Substrate = gillespy2.Species(name=\"Substrate\", initial_value=301, mode=\"discrete\")\n",
    "    Enzyme = gillespy2.Species(name=\"Enzyme\", initial_value=120, mode=\"discrete\")\n",
    "    Enzyme_Substrate_Complex = gillespy2.Species(name=\"Enzyme_Substrate_Complex\", initial_value=0, mode=\"discrete\")\n",
    "    Product = gillespy2.Species(name=\"Product\", initial_value=0, mode=\"discrete\")\n",
    "    model.add_species([Substrate, Enzyme, Enzyme_Substrate_Complex, Product])\n",
    "\n",
    "    # Parameters\n",
    "    rate1 = gillespy2.Parameter(name=\"rate1\", expression=\"0.0017\")\n",
    "    rate2 = gillespy2.Parameter(name=\"rate2\", expression=\"0.5\")\n",
    "    rate3 = gillespy2.Parameter(name=\"rate3\", expression=\"0.1\")\n",
    "    model.add_parameter([rate1, rate2, rate3])\n",
    "\n",
    "    # Reactions\n",
    "    r1 = gillespy2.Reaction(\n",
    "        name=\"r1\", rate=\"rate1\",\n",
    "        reactants={'Substrate': 1, 'Enzyme': 1}, products={'Enzyme_Substrate_Complex': 1}\n",
    "    )\n",
    "    r2 = gillespy2.Reaction(\n",
    "        name=\"r2\", rate=\"rate2\",\n",
    "        reactants={'Enzyme_Substrate_Complex': 1}, products={'Substrate': 1, 'Enzyme': 1}\n",
    "    )\n",
    "    r3 = gillespy2.Reaction(\n",
    "        name=\"r3\", rate=\"rate3\",\n",
    "        reactants={'Enzyme_Substrate_Complex': 1}, products={'Enzyme': 1, 'Product': 1}\n",
    "    )\n",
    "    model.add_reaction([r1, r2, r3])\n",
    "\n",
    "    # Timespan\n",
    "    tspan = gillespy2.TimeSpan.arange(1, t=100)\n",
    "    model.timespan(tspan)\n",
    "    return model"
   ]
  },
  {
   "cell_type": "markdown",
   "metadata": {},
   "source": [
    "### Instantiate the Model"
   ]
  },
  {
   "cell_type": "code",
   "execution_count": null,
   "metadata": {},
   "outputs": [],
   "source": [
    "model = create_michaelis_menten()"
   ]
  },
  {
   "cell_type": "markdown",
   "metadata": {},
   "source": [
    "***\n",
    "## Simulation Parameters\n",
    "***"
   ]
  },
  {
   "cell_type": "code",
   "execution_count": null,
   "metadata": {},
   "outputs": [],
   "source": [
    "def configure_simulation():\n",
    "    kwargs = {\n",
    "        # \"algorithm\":\"SSA\",\n",
    "        \"number_of_trajectories\":100,\n",
    "        # \"seed\":None,\n",
    "        # \"tau_tol\":0.03,\n",
    "        # \"integrator_options\":{'rtol': 0.001, 'atol': 1e-06},\n",
    "    }\n",
    "    return kwargs"
   ]
  },
  {
   "cell_type": "markdown",
   "metadata": {},
   "source": [
    "***\n",
    "## Run the Simulation\n",
    "***"
   ]
  },
  {
   "cell_type": "code",
   "execution_count": null,
   "metadata": {},
   "outputs": [],
   "source": [
    "kwargs = configure_simulation()\n",
    "results = model.run(**kwargs)"
   ]
  },
  {
   "cell_type": "markdown",
   "metadata": {},
   "source": [
    "***\n",
    "## Visualization\n",
    "***"
   ]
  },
  {
   "cell_type": "code",
   "execution_count": null,
   "metadata": {},
   "outputs": [],
   "source": [
    "results.plotplotly()"
   ]
  }
 ],
 "metadata": {
  "kernelspec": {
   "display_name": "Python 3",
   "language": "python",
   "name": "python3"
  },
  "language_info": {
   "codemirror_mode": {
    "name": "ipython",
    "version": 3
   },
   "file_extension": ".py",
   "mimetype": "text/x-python",
   "name": "python",
   "nbconvert_exporter": "python",
   "pygments_lexer": "ipython3",
   "version": "3.8.5"
  }
 },
 "nbformat": 4,
 "nbformat_minor": 4
}
