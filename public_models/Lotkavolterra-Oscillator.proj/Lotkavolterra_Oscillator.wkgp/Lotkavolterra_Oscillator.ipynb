{
 "cells": [
  {
   "cell_type": "markdown",
   "metadata": {},
   "source": [
    "# Lotkavolterra Oscillator\n",
    "***\n",
    "## Setup the Environment\n",
    "***"
   ]
  },
  {
   "cell_type": "code",
   "execution_count": null,
   "metadata": {},
   "outputs": [],
   "source": [
    "import gillespy2"
   ]
  },
  {
   "cell_type": "markdown",
   "metadata": {},
   "source": [
    "***\n",
    "## Create the Lotkavolterra Oscillator Model\n",
    "***"
   ]
  },
  {
   "cell_type": "code",
   "execution_count": null,
   "metadata": {},
   "outputs": [],
   "source": [
    "def create_lotkavolterra_oscillator(parameter_values=None):\n",
    "    model = gillespy2.Model(name=\"Lotkavolterra_Oscillator\")\n",
    "    model.volume = 1\n",
    "\n",
    "    # Variables\n",
    "    R = gillespy2.Species(name=\"R\", initial_value=0.0095, mode=\"continuous\")\n",
    "    W = gillespy2.Species(name=\"W\", initial_value=0.008, mode=\"continuous\")\n",
    "    model.add_species([R, W])\n",
    "\n",
    "    # Parameters\n",
    "    k1 = gillespy2.Parameter(name=\"k1\", expression=\"0.004\")\n",
    "    k2 = gillespy2.Parameter(name=\"k2\", expression=\"0.5\")\n",
    "    k3 = gillespy2.Parameter(name=\"k3\", expression=\"0.0045\")\n",
    "    model.add_parameter([k1, k2, k3])\n",
    "\n",
    "    # Reactions\n",
    "    r1 = gillespy2.Reaction(\n",
    "        name=\"r1\", rate=\"k1\",\n",
    "        reactants={'R': 1}, products={'R': 2}\n",
    "    )\n",
    "    r2 = gillespy2.Reaction(\n",
    "        name=\"r2\", rate=\"k2\",\n",
    "        reactants={'R': 1, 'W': 1}, products={'W': 2}\n",
    "    )\n",
    "    r3 = gillespy2.Reaction(\n",
    "        name=\"r3\", rate=\"k3\",\n",
    "        reactants={'W': 1}, products={}\n",
    "    )\n",
    "    model.add_reaction([r1, r2, r3])\n",
    "\n",
    "    # Timespan\n",
    "    tspan = gillespy2.TimeSpan.arange(1, t=9000)\n",
    "    model.timespan(tspan)\n",
    "    return model"
   ]
  },
  {
   "cell_type": "markdown",
   "metadata": {},
   "source": [
    "### Instantiate the Model"
   ]
  },
  {
   "cell_type": "code",
   "execution_count": null,
   "metadata": {},
   "outputs": [],
   "source": [
    "model = create_lotkavolterra_oscillator()"
   ]
  },
  {
   "cell_type": "markdown",
   "metadata": {},
   "source": [
    "***\n",
    "## Simulation Parameters\n",
    "***"
   ]
  },
  {
   "cell_type": "code",
   "execution_count": null,
   "metadata": {},
   "outputs": [],
   "source": [
    "def configure_simulation():\n",
    "    kwargs = {\n",
    "        # \"algorithm\":\"Tau-Hybrid\",\n",
    "        \"number_of_trajectories\":100,\n",
    "        # \"seed\":None,\n",
    "        # \"tau_tol\":0.03,\n",
    "        # \"integrator_options\":{'rtol': 0.001, 'atol': 1e-06},\n",
    "    }\n",
    "    return kwargs"
   ]
  },
  {
   "cell_type": "markdown",
   "metadata": {},
   "source": [
    "***\n",
    "## Run the Simulation\n",
    "***"
   ]
  },
  {
   "cell_type": "code",
   "execution_count": null,
   "metadata": {},
   "outputs": [],
   "source": [
    "kwargs = configure_simulation()\n",
    "results = model.run(**kwargs)"
   ]
  },
  {
   "cell_type": "markdown",
   "metadata": {},
   "source": [
    "***\n",
    "## Visualization\n",
    "***"
   ]
  },
  {
   "cell_type": "code",
   "execution_count": null,
   "metadata": {},
   "outputs": [],
   "source": [
    "results.plotplotly()"
   ]
  }
 ],
 "metadata": {
  "kernelspec": {
   "display_name": "Python 3",
   "language": "python",
   "name": "python3"
  },
  "language_info": {
   "codemirror_mode": {
    "name": "ipython",
    "version": 3
   },
   "file_extension": ".py",
   "mimetype": "text/x-python",
   "name": "python",
   "nbconvert_exporter": "python",
   "pygments_lexer": "ipython3",
   "version": "3.8.5"
  }
 },
 "nbformat": 4,
 "nbformat_minor": 4
}
