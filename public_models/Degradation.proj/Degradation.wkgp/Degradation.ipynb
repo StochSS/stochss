{
 "cells": [
  {
   "cell_type": "markdown",
   "metadata": {},
   "source": [
    "# Degradation\n",
    "***\n",
    "## Setup the Environment\n",
    "***"
   ]
  },
  {
   "cell_type": "code",
   "execution_count": null,
   "metadata": {},
   "outputs": [],
   "source": [
    "import gillespy2"
   ]
  },
  {
   "cell_type": "markdown",
   "metadata": {},
   "source": [
    "***\n",
    "## Create the Degradation Model\n",
    "***"
   ]
  },
  {
   "cell_type": "code",
   "execution_count": null,
   "metadata": {},
   "outputs": [],
   "source": [
    "def create_degradation(parameter_values=None):\n",
    "    model = gillespy2.Model(name=\"Degradation\")\n",
    "    model.volume = 1\n",
    "\n",
    "    # Variables\n",
    "    protein = gillespy2.Species(name=\"protein\", initial_value=50, mode=\"discrete\")\n",
    "    model.add_species([protein])\n",
    "\n",
    "    # Parameters\n",
    "    decayrate = gillespy2.Parameter(name=\"decayrate\", expression=\"0.05\")\n",
    "    model.add_parameter([decayrate])\n",
    "\n",
    "    # Reactions\n",
    "    reaction = gillespy2.Reaction(\n",
    "        name=\"reaction\", rate=\"decayrate\",\n",
    "        reactants={'protein': 1}, products={}\n",
    "    )\n",
    "    model.add_reaction([reaction])\n",
    "\n",
    "    # Timespan\n",
    "    tspan = gillespy2.TimeSpan.arange(1, t=100)\n",
    "    model.timespan(tspan)\n",
    "    return model"
   ]
  },
  {
   "cell_type": "markdown",
   "metadata": {},
   "source": [
    "### Instantiate the Model"
   ]
  },
  {
   "cell_type": "code",
   "execution_count": null,
   "metadata": {},
   "outputs": [],
   "source": [
    "model = create_degradation()"
   ]
  },
  {
   "cell_type": "markdown",
   "metadata": {},
   "source": [
    "***\n",
    "## Simulation Parameters\n",
    "***"
   ]
  },
  {
   "cell_type": "code",
   "execution_count": null,
   "metadata": {},
   "outputs": [],
   "source": [
    "def configure_simulation():\n",
    "    kwargs = {\n",
    "        # \"algorithm\":\"SSA\",\n",
    "        \"number_of_trajectories\":100,\n",
    "        # \"seed\":None,\n",
    "        # \"tau_tol\":0.03,\n",
    "        # \"integrator_options\":{'rtol': 0.001, 'atol': 1e-06},\n",
    "    }\n",
    "    return kwargs"
   ]
  },
  {
   "cell_type": "markdown",
   "metadata": {},
   "source": [
    "***\n",
    "## Run the Simulation\n",
    "***"
   ]
  },
  {
   "cell_type": "code",
   "execution_count": null,
   "metadata": {},
   "outputs": [],
   "source": [
    "kwargs = configure_simulation()\n",
    "results = model.run(**kwargs)"
   ]
  },
  {
   "cell_type": "markdown",
   "metadata": {},
   "source": [
    "***\n",
    "## Visualization\n",
    "***"
   ]
  },
  {
   "cell_type": "code",
   "execution_count": null,
   "metadata": {},
   "outputs": [],
   "source": [
    "results.plotplotly()"
   ]
  }
 ],
 "metadata": {
  "kernelspec": {
   "display_name": "Python 3",
   "language": "python",
   "name": "python3"
  },
  "language_info": {
   "codemirror_mode": {
    "name": "ipython",
    "version": 3
   },
   "file_extension": ".py",
   "mimetype": "text/x-python",
   "name": "python",
   "nbconvert_exporter": "python",
   "pygments_lexer": "ipython3",
   "version": "3.8.5"
  }
 },
 "nbformat": 4,
 "nbformat_minor": 4
}
