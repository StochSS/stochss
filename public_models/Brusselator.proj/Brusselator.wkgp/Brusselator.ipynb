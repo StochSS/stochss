{
 "cells": [
  {
   "cell_type": "markdown",
   "metadata": {},
   "source": [
    "# Brusselator\n",
    "***\n",
    "https://en.wikipedia.org/wiki/Brusselator\n",
    "***\n",
    "## Setup the Environment\n",
    "***"
   ]
  },
  {
   "cell_type": "code",
   "execution_count": null,
   "metadata": {},
   "outputs": [],
   "source": [
    "import gillespy2"
   ]
  },
  {
   "cell_type": "markdown",
   "metadata": {},
   "source": [
    "***\n",
    "## Create the Brusselator Model\n",
    "***"
   ]
  },
  {
   "cell_type": "code",
   "execution_count": null,
   "metadata": {},
   "outputs": [],
   "source": [
    "def create_brusselator(parameter_values=None):\n",
    "    model = gillespy2.Model(name=\"Brusselator\")\n",
    "    model.volume = 1000\n",
    "\n",
    "    # Variables\n",
    "    A = gillespy2.Species(name=\"A\", initial_value=100000, mode=\"discrete\")\n",
    "    B = gillespy2.Species(name=\"B\", initial_value=100000, mode=\"discrete\")\n",
    "    C = gillespy2.Species(name=\"C\", initial_value=0, mode=\"discrete\")\n",
    "    D = gillespy2.Species(name=\"D\", initial_value=0, mode=\"discrete\")\n",
    "    X = gillespy2.Species(name=\"X\", initial_value=2000, mode=\"discrete\")\n",
    "    Y = gillespy2.Species(name=\"Y\", initial_value=1000, mode=\"discrete\")\n",
    "    model.add_species([A, B, C, D, X, Y])\n",
    "\n",
    "    # Parameters\n",
    "    rate1 = gillespy2.Parameter(name=\"rate1\", expression=\"5000\")\n",
    "    rate2 = gillespy2.Parameter(name=\"rate2\", expression=\"50\")\n",
    "    rate3 = gillespy2.Parameter(name=\"rate3\", expression=\"5e-05\")\n",
    "    rate4 = gillespy2.Parameter(name=\"rate4\", expression=\"5\")\n",
    "    model.add_parameter([rate1, rate2, rate3, rate4])\n",
    "\n",
    "    # Reactions\n",
    "    reaction1 = gillespy2.Reaction(\n",
    "        name=\"reaction1\",\n",
    "        reactants={'A': 1}, products={'X': 1, 'A': 1},\n",
    "        propensity_function=\"rate1\",\n",
    "        ode_propensity_function=\"rate1\"\n",
    "    )\n",
    "    reaction2 = gillespy2.Reaction(\n",
    "        name=\"reaction2\",\n",
    "        reactants={'B': 1, 'X': 1}, products={'Y': 1, 'C': 1, 'B': 1},\n",
    "        propensity_function=\"rate2*X\",\n",
    "        ode_propensity_function=\"rate2*X\"\n",
    "    )\n",
    "    reaction3 = gillespy2.Reaction(\n",
    "        name=\"reaction3\",\n",
    "        reactants={'X': 2, 'Y': 1}, products={'X': 3},\n",
    "        propensity_function=\"rate3*Y*X*(X-1)/2\",\n",
    "        ode_propensity_function=\"rate3*Y*X*(X-1)/2\"\n",
    "    )\n",
    "    reaction4 = gillespy2.Reaction(\n",
    "        name=\"reaction4\",\n",
    "        reactants={'X': 1}, products={'D': 1},\n",
    "        propensity_function=\"rate4*X\",\n",
    "        ode_propensity_function=\"rate4*X\"\n",
    "    )\n",
    "    model.add_reaction([reaction1, reaction2, reaction3, reaction4])\n",
    "\n",
    "    # Timespan\n",
    "    tspan = gillespy2.TimeSpan.arange(0.01, t=30)\n",
    "    model.timespan(tspan)\n",
    "    return model"
   ]
  },
  {
   "cell_type": "markdown",
   "metadata": {},
   "source": [
    "### Instantiate the Model"
   ]
  },
  {
   "cell_type": "code",
   "execution_count": null,
   "metadata": {},
   "outputs": [],
   "source": [
    "model = create_brusselator()"
   ]
  },
  {
   "cell_type": "markdown",
   "metadata": {},
   "source": [
    "***\n",
    "## Simulation Parameters\n",
    "***"
   ]
  },
  {
   "cell_type": "code",
   "execution_count": null,
   "metadata": {},
   "outputs": [],
   "source": [
    "def configure_simulation():\n",
    "    kwargs = {\n",
    "        # \"algorithm\":\"SSA\",\n",
    "        \"number_of_trajectories\":100,\n",
    "        # \"seed\":None,\n",
    "        # \"tau_tol\":0.03,\n",
    "        # \"integrator_options\":{'rtol': 0.001, 'atol': 1e-06},\n",
    "    }\n",
    "    return kwargs"
   ]
  },
  {
   "cell_type": "markdown",
   "metadata": {},
   "source": [
    "***\n",
    "## Run the Simulation\n",
    "***"
   ]
  },
  {
   "cell_type": "code",
   "execution_count": null,
   "metadata": {},
   "outputs": [],
   "source": [
    "kwargs = configure_simulation()\n",
    "results = model.run(**kwargs)"
   ]
  },
  {
   "cell_type": "markdown",
   "metadata": {},
   "source": [
    "***\n",
    "## Visualization\n",
    "***"
   ]
  },
  {
   "cell_type": "code",
   "execution_count": null,
   "metadata": {},
   "outputs": [],
   "source": [
    "results.plotplotly()"
   ]
  }
 ],
 "metadata": {
  "kernelspec": {
   "display_name": "Python 3",
   "language": "python",
   "name": "python3"
  },
  "language_info": {
   "codemirror_mode": {
    "name": "ipython",
    "version": 3
   },
   "file_extension": ".py",
   "mimetype": "text/x-python",
   "name": "python",
   "nbconvert_exporter": "python",
   "pygments_lexer": "ipython3",
   "version": "3.8.5"
  }
 },
 "nbformat": 4,
 "nbformat_minor": 4
}
