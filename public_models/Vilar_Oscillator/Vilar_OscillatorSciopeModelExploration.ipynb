{
 "cells": [
  {
   "cell_type": "code",
   "execution_count": 1,
   "metadata": {},
   "outputs": [],
   "source": [
    "%matplotlib notebook"
   ]
  },
  {
   "cell_type": "code",
   "execution_count": 2,
   "metadata": {},
   "outputs": [],
   "source": [
    "import numpy as np\n",
    "import gillespy2\n",
    "from gillespy2 import Model, Species, Parameter, Reaction, Event, \\\n",
    "                      EventTrigger, EventAssignment, RateRule, \\\n",
    "                      AssignmentRule, FunctionDefinition\n",
    "from gillespy2 import SSACSolver\n",
    "# from gillespy2 import TauLeapingCSolver\n",
    "# from gillespy2 import ODECSolver\n",
    "# from gillespy2 import TauHybridSolver"
   ]
  },
  {
   "cell_type": "markdown",
   "metadata": {},
   "source": [
    "# Vilar_Oscillator"
   ]
  },
  {
   "cell_type": "code",
   "execution_count": 3,
   "metadata": {},
   "outputs": [],
   "source": [
    "class VilarOscillator(Model):\n",
    "    def __init__(self, parameter_values=None):\n",
    "        Model.__init__(self, name=\"Vilar_Oscillator\")\n",
    "        self.volume = 1\n",
    "\n",
    "        # Parameters\n",
    "        self.add_parameter(Parameter(name=\"alphaA\", expression=\"50\"))\n",
    "        self.add_parameter(Parameter(name=\"alphaA_prime\", expression=\"500\"))\n",
    "        self.add_parameter(Parameter(name=\"alphaR\", expression=\"0.01\"))\n",
    "        self.add_parameter(Parameter(name=\"alphaR_prime\", expression=\"50\"))\n",
    "        self.add_parameter(Parameter(name=\"betaA\", expression=\"50\"))\n",
    "        self.add_parameter(Parameter(name=\"betaR\", expression=\"5\"))\n",
    "        self.add_parameter(Parameter(name=\"deltaMA\", expression=\"10\"))\n",
    "        self.add_parameter(Parameter(name=\"deltaMR\", expression=\"0.5\"))\n",
    "        self.add_parameter(Parameter(name=\"deltaA\", expression=\"1\"))\n",
    "        self.add_parameter(Parameter(name=\"deltaR\", expression=\"0.2\"))\n",
    "        self.add_parameter(Parameter(name=\"gammaA\", expression=\"1\"))\n",
    "        self.add_parameter(Parameter(name=\"gammaR\", expression=\"1\"))\n",
    "        self.add_parameter(Parameter(name=\"gammaC\", expression=\"2\"))\n",
    "        self.add_parameter(Parameter(name=\"thetaA\", expression=\"50\"))\n",
    "        self.add_parameter(Parameter(name=\"thetaR\", expression=\"100\"))\n",
    "\n",
    "        # Variables\n",
    "        self.add_species(Species(name=\"Da\", initial_value=1, mode=\"discrete\"))\n",
    "        self.add_species(Species(name=\"Da_prime\", initial_value=0, mode=\"discrete\"))\n",
    "        self.add_species(Species(name=\"Ma\", initial_value=0, mode=\"discrete\"))\n",
    "        self.add_species(Species(name=\"Dr\", initial_value=1, mode=\"discrete\"))\n",
    "        self.add_species(Species(name=\"Dr_prime\", initial_value=0, mode=\"discrete\"))\n",
    "        self.add_species(Species(name=\"Mr\", initial_value=0, mode=\"discrete\"))\n",
    "        self.add_species(Species(name=\"C\", initial_value=0, mode=\"discrete\"))\n",
    "        self.add_species(Species(name=\"A\", initial_value=0, mode=\"discrete\"))\n",
    "        self.add_species(Species(name=\"R\", initial_value=0, mode=\"discrete\"))\n",
    "\n",
    "        # Reactions\n",
    "        self.add_reaction(Reaction(name=\"r1\", reactants={'A': 1, 'R': 1}, products={'C': 1}, rate=\"gammaC\"))\n",
    "        self.add_reaction(Reaction(name=\"r2\", reactants={'A': 1}, products={}, rate=\"deltaA\"))\n",
    "        self.add_reaction(Reaction(name=\"r3\", reactants={'C': 1}, products={'R': 1}, rate=\"deltaA\"))\n",
    "        self.add_reaction(Reaction(name=\"r4\", reactants={'R': 1}, products={}, rate=\"deltaR\"))\n",
    "        self.add_reaction(Reaction(name=\"r5\", reactants={'A': 1, 'Da': 1}, products={'Da_prime': 1}, rate=\"gammaA\"))\n",
    "        self.add_reaction(Reaction(name=\"r6\", reactants={'Da_prime': 1}, products={'A': 1, 'Da': 1}, rate=\"thetaA\"))\n",
    "        self.add_reaction(Reaction(name=\"r7\", reactants={'Da': 1}, products={'Da': 1, 'Ma': 1}, rate=\"alphaA\"))\n",
    "        self.add_reaction(Reaction(name=\"r8\", reactants={'Da_prime': 1}, products={'Da_prime': 1, 'Ma': 1}, rate=\"alphaA_prime\"))\n",
    "        self.add_reaction(Reaction(name=\"r9\", reactants={'Ma': 1}, products={}, rate=\"deltaMA\"))\n",
    "        self.add_reaction(Reaction(name=\"r10\", reactants={'Ma': 1}, products={'A': 1, 'Ma': 1}, rate=\"betaA\"))\n",
    "        self.add_reaction(Reaction(name=\"r11\", reactants={'A': 1, 'Dr': 1}, products={'Dr_prime': 1}, rate=\"gammaR\"))\n",
    "        self.add_reaction(Reaction(name=\"r12\", reactants={'Dr_prime': 1}, products={'A': 1, 'Dr': 1}, rate=\"thetaR\"))\n",
    "        self.add_reaction(Reaction(name=\"r13\", reactants={'Dr': 1}, products={'Dr': 1, 'Mr': 1}, rate=\"alphaR\"))\n",
    "        self.add_reaction(Reaction(name=\"r14\", reactants={'Dr_prime': 1}, products={'Dr_prime': 1, 'Mr': 1}, rate=\"alphaR_prime\"))\n",
    "        self.add_reaction(Reaction(name=\"r15\", reactants={'Mr': 1}, products={}, rate=\"deltaMR\"))\n",
    "        self.add_reaction(Reaction(name=\"r16\", reactants={'Mr': 1}, products={'Mr': 1, 'R': 1}, rate=\"betaR\"))\n",
    "\n",
    "        # Timespan\n",
    "        self.timespan(np.arange(0, 201, 1))"
   ]
  },
  {
   "cell_type": "code",
   "execution_count": 4,
   "metadata": {},
   "outputs": [],
   "source": [
    "model = VilarOscillator()"
   ]
  },
  {
   "cell_type": "markdown",
   "metadata": {},
   "source": [
    "# Simulation Parameters"
   ]
  },
  {
   "cell_type": "code",
   "execution_count": 5,
   "metadata": {},
   "outputs": [],
   "source": [
    "def configure_simulation():\n",
    "    solver = SSACSolver(model=model)\n",
    "    kwargs = {\n",
    "        \"solver\":solver,\n",
    "        \"number_of_trajectories\":100,\n",
    "        # \"seed\":None,\n",
    "        # \"tau_tol\":0.03,\n",
    "        # \"integrator_options\":{'rtol': 0.001, 'atol': 1e-06},\n",
    "    }\n",
    "    return kwargs"
   ]
  },
  {
   "cell_type": "markdown",
   "metadata": {},
   "source": [
    "# Model Exploration"
   ]
  },
  {
   "cell_type": "markdown",
   "metadata": {},
   "source": [
    "## Define simulator function (using gillespy2 wrapper)"
   ]
  },
  {
   "cell_type": "code",
   "execution_count": 6,
   "metadata": {},
   "outputs": [],
   "source": [
    "from sciope.utilities.gillespy2 import wrapper\n",
    "settings = configure_simulation()\n",
    "simulator = wrapper.get_simulator(gillespy_model=model, run_settings=settings, species_of_interest=['Da', 'Da_prime', 'Ma', 'Dr', 'Dr_prime', 'Mr', 'C', 'A', 'R'])\n",
    "expression_array = wrapper.get_parameter_expression_array(model)"
   ]
  },
  {
   "cell_type": "markdown",
   "metadata": {},
   "source": [
    "## Start local cluster using dask client"
   ]
  },
  {
   "cell_type": "code",
   "execution_count": 7,
   "metadata": {},
   "outputs": [],
   "source": [
    "from dask.distributed import Client\n",
    "\n",
    "c = Client()"
   ]
  },
  {
   "cell_type": "markdown",
   "metadata": {},
   "source": [
    "## Define parameter sampler/design and summary statistics"
   ]
  },
  {
   "cell_type": "code",
   "execution_count": 8,
   "metadata": {},
   "outputs": [],
   "source": [
    "from sciope.designs import latin_hypercube_sampling\n",
    "from sciope.utilities.summarystats.auto_tsfresh import SummariesTSFRESH\n",
    "\n",
    "lhc = latin_hypercube_sampling.LatinHypercube(xmin=expression_array, xmax=expression_array*3)\n",
    "lhc.generate_array(1000) # creates a LHD of size 1000\n",
    "\n",
    "# will use default minimal set of features\n",
    "summary_stats = SummariesTSFRESH()"
   ]
  },
  {
   "cell_type": "markdown",
   "metadata": {},
   "source": [
    "## Initiate StochMET"
   ]
  },
  {
   "cell_type": "code",
   "execution_count": 9,
   "metadata": {},
   "outputs": [],
   "source": [
    "from sciope.stochmet.stochmet import StochMET\n",
    "\n",
    "met = StochMET(simulator, lhc, summary_stats)"
   ]
  },
  {
   "cell_type": "markdown",
   "metadata": {},
   "source": [
    "## Run parameter sweep"
   ]
  },
  {
   "cell_type": "code",
   "execution_count": null,
   "metadata": {},
   "outputs": [],
   "source": [
    "met.compute(n_points=500, chunk_size=10)"
   ]
  },
  {
   "cell_type": "markdown",
   "metadata": {},
   "source": [
    "## Explore the result"
   ]
  },
  {
   "cell_type": "code",
   "execution_count": null,
   "metadata": {},
   "outputs": [],
   "source": [
    "# First lets add some appropiate information about the model and features\n",
    "met.data.configurations['listOfParameters'] = list(model.listOfParameters.keys())\n",
    "met.data.configurations['listOfSpecies'] = list(model.listOfSpecies.keys())\n",
    "met.data.configurations['listOfSummaries'] = met.summaries.features\n",
    "met.data.configurations['timepoints'] = model.tspan"
   ]
  },
  {
   "cell_type": "code",
   "execution_count": null,
   "metadata": {},
   "outputs": [],
   "source": [
    "# Here we use UMAP for dimension reduction\n",
    "met.explore(dr_method='umap')"
   ]
  },
  {
   "cell_type": "code",
   "execution_count": null,
   "metadata": {},
   "outputs": [],
   "source": [
    "from sciope.models.label_propagation import LPModel\n",
    "# here lets use the dimension reduction embedding as input data\n",
    "data = met.dr_model.embedding_\n",
    "\n",
    "model_lp = LPModel()\n",
    "# train using basinhopping\n",
    "model_lp.train(data, met.data.user_labels, min_=0.01, max_=10, niter=50)"
   ]
  },
  {
   "cell_type": "code",
   "execution_count": null,
   "metadata": {},
   "outputs": [],
   "source": [
    "# just to vislualize the result we will map the label distribution to the user_labels\n",
    "# (will enable us to see the LP model output when using method 'explore')\n",
    "user_labels = np.copy(met.data.user_labels)\n",
    "# takes the label corresponding to index 0\n",
    "met.data.user_labels = model_lp.model.label_distributions_[:, 0]"
   ]
  },
  {
   "cell_type": "code",
   "execution_count": null,
   "metadata": {},
   "outputs": [],
   "source": [
    "met.explore(dr_method='umap')"
   ]
  },
  {
   "cell_type": "code",
   "execution_count": null,
   "metadata": {},
   "outputs": [],
   "source": [
    "met.data.user_labels = user_labels"
   ]
  }
 ],
 "metadata": {
  "kernelspec": {
   "display_name": "Python 3",
   "language": "python",
   "name": "python3"
  },
  "language_info": {
   "codemirror_mode": {
    "name": "ipython",
    "version": 3
   },
   "file_extension": ".py",
   "mimetype": "text/x-python",
   "name": "python",
   "nbconvert_exporter": "python",
   "pygments_lexer": "ipython3",
   "version": "3.8.5"
  }
 },
 "nbformat": 4,
 "nbformat_minor": 4
}
