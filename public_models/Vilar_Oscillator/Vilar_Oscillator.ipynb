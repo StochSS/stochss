{
 "cells": [
  {
   "cell_type": "code",
   "execution_count": null,
   "metadata": {},
   "outputs": [],
   "source": [
    "import numpy as np\n",
    "import gillespy2\n",
    "from gillespy2 import Model, Species, Parameter, Reaction, Event, \\\n",
    "                      EventTrigger, EventAssignment, RateRule, \\\n",
    "                      AssignmentRule, FunctionDefinition\n",
    "# from gillespy2 import SSACSolver\n",
    "# from gillespy2 import TauLeapingCSolver\n",
    "# from gillespy2 import ODECSolver\n",
    "# from gillespy2 import TauHybridSolver"
   ]
  },
  {
   "cell_type": "markdown",
   "metadata": {},
   "source": [
    "# Vilar_Oscillator"
   ]
  },
  {
   "cell_type": "code",
   "execution_count": null,
   "metadata": {},
   "outputs": [],
   "source": [
    "class VilarOscillator(Model):\n",
    "    def __init__(self, parameter_values=None):\n",
    "        Model.__init__(self, name=\"Vilar_Oscillator\")\n",
    "        self.volume = 1\n",
    "\n",
    "        # Parameters\n",
    "        self.add_parameter(Parameter(name=\"alphaA\", expression=\"50\"))\n",
    "        self.add_parameter(Parameter(name=\"alphaA_prime\", expression=\"500\"))\n",
    "        self.add_parameter(Parameter(name=\"alphaR\", expression=\"0.01\"))\n",
    "        self.add_parameter(Parameter(name=\"alphaR_prime\", expression=\"50\"))\n",
    "        self.add_parameter(Parameter(name=\"betaA\", expression=\"50\"))\n",
    "        self.add_parameter(Parameter(name=\"betaR\", expression=\"5\"))\n",
    "        self.add_parameter(Parameter(name=\"deltaMA\", expression=\"10\"))\n",
    "        self.add_parameter(Parameter(name=\"deltaMR\", expression=\"0.5\"))\n",
    "        self.add_parameter(Parameter(name=\"deltaA\", expression=\"1\"))\n",
    "        self.add_parameter(Parameter(name=\"deltaR\", expression=\"0.2\"))\n",
    "        self.add_parameter(Parameter(name=\"gammaA\", expression=\"1\"))\n",
    "        self.add_parameter(Parameter(name=\"gammaR\", expression=\"1\"))\n",
    "        self.add_parameter(Parameter(name=\"gammaC\", expression=\"2\"))\n",
    "        self.add_parameter(Parameter(name=\"thetaA\", expression=\"50\"))\n",
    "        self.add_parameter(Parameter(name=\"thetaR\", expression=\"100\"))\n",
    "\n",
    "        # Variables\n",
    "        self.add_species(Species(name=\"Da\", initial_value=1, mode=\"discrete\"))\n",
    "        self.add_species(Species(name=\"Da_prime\", initial_value=0, mode=\"discrete\"))\n",
    "        self.add_species(Species(name=\"Ma\", initial_value=0, mode=\"discrete\"))\n",
    "        self.add_species(Species(name=\"Dr\", initial_value=1, mode=\"discrete\"))\n",
    "        self.add_species(Species(name=\"Dr_prime\", initial_value=0, mode=\"discrete\"))\n",
    "        self.add_species(Species(name=\"Mr\", initial_value=0, mode=\"discrete\"))\n",
    "        self.add_species(Species(name=\"C\", initial_value=0, mode=\"discrete\"))\n",
    "        self.add_species(Species(name=\"A\", initial_value=0, mode=\"discrete\"))\n",
    "        self.add_species(Species(name=\"R\", initial_value=0, mode=\"discrete\"))\n",
    "\n",
    "        # Reactions\n",
    "        self.add_reaction(Reaction(name=\"r1\", reactants={'A': 1, 'R': 1}, products={'C': 1}, rate=\"gammaC\"))\n",
    "        self.add_reaction(Reaction(name=\"r2\", reactants={'A': 1}, products={}, rate=\"deltaA\"))\n",
    "        self.add_reaction(Reaction(name=\"r3\", reactants={'C': 1}, products={'R': 1}, rate=\"deltaA\"))\n",
    "        self.add_reaction(Reaction(name=\"r4\", reactants={'R': 1}, products={}, rate=\"deltaR\"))\n",
    "        self.add_reaction(Reaction(name=\"r5\", reactants={'A': 1, 'Da': 1}, products={'Da_prime': 1}, rate=\"gammaA\"))\n",
    "        self.add_reaction(Reaction(name=\"r6\", reactants={'Da_prime': 1}, products={'A': 1, 'Da': 1}, rate=\"thetaA\"))\n",
    "        self.add_reaction(Reaction(name=\"r7\", reactants={'Da': 1}, products={'Da': 1, 'Ma': 1}, rate=\"alphaA\"))\n",
    "        self.add_reaction(Reaction(name=\"r8\", reactants={'Da_prime': 1}, products={'Da_prime': 1, 'Ma': 1}, rate=\"alphaA_prime\"))\n",
    "        self.add_reaction(Reaction(name=\"r9\", reactants={'Ma': 1}, products={}, rate=\"deltaMA\"))\n",
    "        self.add_reaction(Reaction(name=\"r10\", reactants={'Ma': 1}, products={'A': 1, 'Ma': 1}, rate=\"betaA\"))\n",
    "        self.add_reaction(Reaction(name=\"r11\", reactants={'A': 1, 'Dr': 1}, products={'Dr_prime': 1}, rate=\"gammaR\"))\n",
    "        self.add_reaction(Reaction(name=\"r12\", reactants={'Dr_prime': 1}, products={'A': 1, 'Dr': 1}, rate=\"thetaR\"))\n",
    "        self.add_reaction(Reaction(name=\"r13\", reactants={'Dr': 1}, products={'Dr': 1, 'Mr': 1}, rate=\"alphaR\"))\n",
    "        self.add_reaction(Reaction(name=\"r14\", reactants={'Dr_prime': 1}, products={'Dr_prime': 1, 'Mr': 1}, rate=\"alphaR_prime\"))\n",
    "        self.add_reaction(Reaction(name=\"r15\", reactants={'Mr': 1}, products={}, rate=\"deltaMR\"))\n",
    "        self.add_reaction(Reaction(name=\"r16\", reactants={'Mr': 1}, products={'Mr': 1, 'R': 1}, rate=\"betaR\"))\n",
    "\n",
    "        # Timespan\n",
    "        self.timespan(np.arange(0, 201, 1))"
   ]
  },
  {
   "cell_type": "code",
   "execution_count": null,
   "metadata": {},
   "outputs": [],
   "source": [
    "model = VilarOscillator()"
   ]
  },
  {
   "cell_type": "markdown",
   "metadata": {},
   "source": [
    "# Simulation Parameters"
   ]
  },
  {
   "cell_type": "code",
   "execution_count": null,
   "metadata": {},
   "outputs": [],
   "source": [
    "def configure_simulation():\n",
    "    # solver = SSACSolver(model=model)\n",
    "    kwargs = {\n",
    "        # \"solver\":solver,\n",
    "        \"number_of_trajectories\":100,\n",
    "        # \"seed\":None,\n",
    "        # \"tau_tol\":0.03,\n",
    "        # \"integrator_options\":{'rtol': 0.001, 'atol': 1e-06},\n",
    "    }\n",
    "    return kwargs"
   ]
  },
  {
   "cell_type": "code",
   "execution_count": null,
   "metadata": {},
   "outputs": [],
   "source": [
    "kwargs = configure_simulation()\n",
    "results = model.run(**kwargs)"
   ]
  },
  {
   "cell_type": "markdown",
   "metadata": {},
   "source": [
    "# Visualization"
   ]
  },
  {
   "cell_type": "code",
   "execution_count": null,
   "metadata": {},
   "outputs": [],
   "source": [
    "results.plotplotly()"
   ]
  }
 ],
 "metadata": {},
 "nbformat": 4,
 "nbformat_minor": 4
}
