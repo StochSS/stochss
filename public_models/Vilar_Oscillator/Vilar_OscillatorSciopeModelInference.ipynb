{
 "cells": [
  {
   "cell_type": "code",
   "execution_count": 1,
   "metadata": {},
   "outputs": [],
   "source": [
    "%load_ext autoreload\n",
    "%autoreload 2"
   ]
  },
  {
   "cell_type": "code",
   "execution_count": 2,
   "metadata": {},
   "outputs": [],
   "source": [
    "import numpy as np\n",
    "import gillespy2\n",
    "from gillespy2 import Model, Species, Parameter, Reaction, Event, \\\n",
    "                      EventTrigger, EventAssignment, RateRule, \\\n",
    "                      AssignmentRule, FunctionDefinition\n",
    "from gillespy2 import SSACSolver\n",
    "# from gillespy2 import TauLeapingCSolver\n",
    "# from gillespy2 import ODECSolver\n",
    "# from gillespy2 import TauHybridSolver"
   ]
  },
  {
   "cell_type": "markdown",
   "metadata": {},
   "source": [
    "# Vilar_Oscillator"
   ]
  },
  {
   "cell_type": "code",
   "execution_count": 3,
   "metadata": {},
   "outputs": [],
   "source": [
    "class VilarOscillator(Model):\n",
    "    def __init__(self, parameter_values=None):\n",
    "        Model.__init__(self, name=\"Vilar_Oscillator\")\n",
    "        self.volume = 1\n",
    "\n",
    "        # Parameters\n",
    "        self.add_parameter(Parameter(name=\"alphaA\", expression=\"50\"))\n",
    "        self.add_parameter(Parameter(name=\"alphaA_prime\", expression=\"500\"))\n",
    "        self.add_parameter(Parameter(name=\"alphaR\", expression=\"0.01\"))\n",
    "        self.add_parameter(Parameter(name=\"alphaR_prime\", expression=\"50\"))\n",
    "        self.add_parameter(Parameter(name=\"betaA\", expression=\"50\"))\n",
    "        self.add_parameter(Parameter(name=\"betaR\", expression=\"5\"))\n",
    "        self.add_parameter(Parameter(name=\"deltaMA\", expression=\"10\"))\n",
    "        self.add_parameter(Parameter(name=\"deltaMR\", expression=\"0.5\"))\n",
    "        self.add_parameter(Parameter(name=\"deltaA\", expression=\"1\"))\n",
    "        self.add_parameter(Parameter(name=\"deltaR\", expression=\"0.2\"))\n",
    "        self.add_parameter(Parameter(name=\"gammaA\", expression=\"1\"))\n",
    "        self.add_parameter(Parameter(name=\"gammaR\", expression=\"1\"))\n",
    "        self.add_parameter(Parameter(name=\"gammaC\", expression=\"2\"))\n",
    "        self.add_parameter(Parameter(name=\"thetaA\", expression=\"50\"))\n",
    "        self.add_parameter(Parameter(name=\"thetaR\", expression=\"100\"))\n",
    "\n",
    "        # Variables\n",
    "        self.add_species(Species(name=\"Da\", initial_value=1, mode=\"discrete\"))\n",
    "        self.add_species(Species(name=\"Da_prime\", initial_value=0, mode=\"discrete\"))\n",
    "        self.add_species(Species(name=\"Ma\", initial_value=0, mode=\"discrete\"))\n",
    "        self.add_species(Species(name=\"Dr\", initial_value=1, mode=\"discrete\"))\n",
    "        self.add_species(Species(name=\"Dr_prime\", initial_value=0, mode=\"discrete\"))\n",
    "        self.add_species(Species(name=\"Mr\", initial_value=0, mode=\"discrete\"))\n",
    "        self.add_species(Species(name=\"C\", initial_value=0, mode=\"discrete\"))\n",
    "        self.add_species(Species(name=\"A\", initial_value=0, mode=\"discrete\"))\n",
    "        self.add_species(Species(name=\"R\", initial_value=0, mode=\"discrete\"))\n",
    "\n",
    "        # Reactions\n",
    "        self.add_reaction(Reaction(name=\"r1\", reactants={'A': 1, 'R': 1}, products={'C': 1}, rate=\"gammaC\"))\n",
    "        self.add_reaction(Reaction(name=\"r2\", reactants={'A': 1}, products={}, rate=\"deltaA\"))\n",
    "        self.add_reaction(Reaction(name=\"r3\", reactants={'C': 1}, products={'R': 1}, rate=\"deltaA\"))\n",
    "        self.add_reaction(Reaction(name=\"r4\", reactants={'R': 1}, products={}, rate=\"deltaR\"))\n",
    "        self.add_reaction(Reaction(name=\"r5\", reactants={'A': 1, 'Da': 1}, products={'Da_prime': 1}, rate=\"gammaA\"))\n",
    "        self.add_reaction(Reaction(name=\"r6\", reactants={'Da_prime': 1}, products={'A': 1, 'Da': 1}, rate=\"thetaA\"))\n",
    "        self.add_reaction(Reaction(name=\"r7\", reactants={'Da': 1}, products={'Da': 1, 'Ma': 1}, rate=\"alphaA\"))\n",
    "        self.add_reaction(Reaction(name=\"r8\", reactants={'Da_prime': 1}, products={'Da_prime': 1, 'Ma': 1}, rate=\"alphaA_prime\"))\n",
    "        self.add_reaction(Reaction(name=\"r9\", reactants={'Ma': 1}, products={}, rate=\"deltaMA\"))\n",
    "        self.add_reaction(Reaction(name=\"r10\", reactants={'Ma': 1}, products={'A': 1, 'Ma': 1}, rate=\"betaA\"))\n",
    "        self.add_reaction(Reaction(name=\"r11\", reactants={'A': 1, 'Dr': 1}, products={'Dr_prime': 1}, rate=\"gammaR\"))\n",
    "        self.add_reaction(Reaction(name=\"r12\", reactants={'Dr_prime': 1}, products={'A': 1, 'Dr': 1}, rate=\"thetaR\"))\n",
    "        self.add_reaction(Reaction(name=\"r13\", reactants={'Dr': 1}, products={'Dr': 1, 'Mr': 1}, rate=\"alphaR\"))\n",
    "        self.add_reaction(Reaction(name=\"r14\", reactants={'Dr_prime': 1}, products={'Dr_prime': 1, 'Mr': 1}, rate=\"alphaR_prime\"))\n",
    "        self.add_reaction(Reaction(name=\"r15\", reactants={'Mr': 1}, products={}, rate=\"deltaMR\"))\n",
    "        self.add_reaction(Reaction(name=\"r16\", reactants={'Mr': 1}, products={'Mr': 1, 'R': 1}, rate=\"betaR\"))\n",
    "\n",
    "        # Timespan\n",
    "        self.timespan(np.arange(0, 201, 1))"
   ]
  },
  {
   "cell_type": "code",
   "execution_count": 4,
   "metadata": {},
   "outputs": [],
   "source": [
    "model = VilarOscillator()"
   ]
  },
  {
   "cell_type": "markdown",
   "metadata": {},
   "source": [
    "# Simulation Parameters"
   ]
  },
  {
   "cell_type": "code",
   "execution_count": 5,
   "metadata": {},
   "outputs": [],
   "source": [
    "def configure_simulation():\n",
    "    solver = SSACSolver(model=model)\n",
    "    kwargs = {\n",
    "        \"solver\":solver,\n",
    "        \"number_of_trajectories\":100,\n",
    "        # \"seed\":None,\n",
    "        # \"tau_tol\":0.03,\n",
    "        # \"integrator_options\":{'rtol': 0.001, 'atol': 1e-06},\n",
    "    }\n",
    "    return kwargs"
   ]
  },
  {
   "cell_type": "markdown",
   "metadata": {},
   "source": [
    "# Model Inference"
   ]
  },
  {
   "cell_type": "code",
   "execution_count": 6,
   "metadata": {},
   "outputs": [],
   "source": [
    "from tsfresh.feature_extraction.settings import MinimalFCParameters"
   ]
  },
  {
   "cell_type": "markdown",
   "metadata": {},
   "source": [
    "## Generate some fixed(observed) data based on default parameters of the model"
   ]
  },
  {
   "cell_type": "code",
   "execution_count": 7,
   "metadata": {},
   "outputs": [],
   "source": [
    "kwargs = configure_simulation()\n",
    "fixed_data = model.run(**kwargs)"
   ]
  },
  {
   "cell_type": "code",
   "execution_count": 8,
   "metadata": {},
   "outputs": [],
   "source": [
    "# Reshape the data and remove timepoints array\n",
    "fixed_data = fixed_data.to_array()\n",
    "fixed_data = np.asarray([x.T for x in fixed_data])\n",
    "fixed_data = fixed_data[:, 1:, :]"
   ]
  },
  {
   "cell_type": "markdown",
   "metadata": {},
   "source": [
    "## Define prior distribution"
   ]
  },
  {
   "cell_type": "code",
   "execution_count": 9,
   "metadata": {},
   "outputs": [],
   "source": [
    "from sciope.utilities.priors import uniform_prior\n",
    "\n",
    "# take default from mode 1 as reference\n",
    "default_param = np.array(list(model.listOfParameters.items()))[:, 1]\n",
    "\n",
    "bound = []\n",
    "for exp in default_param:\n",
    "    bound.append(float(exp.expression))\n",
    "\n",
    "# Set the bounds\n",
    "bound = np.array(bound)\n",
    "dmin = bound * 0.1\n",
    "dmax = bound * 2.0\n",
    "\n",
    "# Here we use uniform prior\n",
    "uni_prior = uniform_prior.UniformPrior(dmin, dmax)"
   ]
  },
  {
   "cell_type": "markdown",
   "metadata": {},
   "source": [
    "## Define simulator"
   ]
  },
  {
   "cell_type": "code",
   "execution_count": 10,
   "metadata": {},
   "outputs": [],
   "source": [
    "def get_variables(params, model):\n",
    "    # params - array, need to have the same order as model.listOfParameters\n",
    "    variables = {}\n",
    "    for e, pname in enumerate(model.listOfParameters.keys()):\n",
    "        variables[pname] = params[e]\n",
    "    return variables\n",
    "\n",
    "# Here we use the GillesPy2 Solver\n",
    "def simulator(params, model):\n",
    "    variables = get_variables(params, model)\n",
    "\n",
    "    res = model.run(**kwargs, variables=variables)\n",
    "    res = res.to_array()\n",
    "    tot_res = np.asarray([x.T for x in res]) # reshape to (N, S, T)\n",
    "    # should not contain timepoints\n",
    "    tot_res = tot_res[:, 1:, :]\n",
    "\n",
    "    return tot_res\n",
    "\n",
    "# Wrapper, simulator function to abc should should only take one argument (the parameter point)\n",
    "def simulator2(x):\n",
    "    return simulator(x, model=model)"
   ]
  },
  {
   "cell_type": "markdown",
   "metadata": {},
   "source": [
    "## Define summary statistics and distance function"
   ]
  },
  {
   "cell_type": "code",
   "execution_count": 11,
   "metadata": {},
   "outputs": [],
   "source": [
    "from sciope.utilities.summarystats import auto_tsfresh\n",
    "from sciope.utilities.distancefunctions import naive_squared\n",
    "\n",
    "# Function to generate summary statistics\n",
    "summ_func = auto_tsfresh.SummariesTSFRESH()\n",
    "\n",
    "# Distance\n",
    "ns = naive_squared.NaiveSquaredDistance()"
   ]
  },
  {
   "cell_type": "markdown",
   "metadata": {},
   "source": [
    "## Start local cluster using dask client"
   ]
  },
  {
   "cell_type": "code",
   "execution_count": 12,
   "metadata": {},
   "outputs": [],
   "source": [
    "from dask.distributed import Client\n",
    "\n",
    "c = Client()"
   ]
  },
  {
   "cell_type": "markdown",
   "metadata": {},
   "source": [
    "## Start abc instance"
   ]
  },
  {
   "cell_type": "code",
   "execution_count": 13,
   "metadata": {},
   "outputs": [],
   "source": [
    "from sciope.inference.abc_inference import ABC\n",
    "\n",
    "abc = ABC(fixed_data, sim=simulator2, prior_function=uni_prior, summaries_function=summ_func.compute, distance_function=ns)"
   ]
  },
  {
   "cell_type": "code",
   "execution_count": 14,
   "metadata": {},
   "outputs": [],
   "source": [
    "# First compute the fixed(observed) mean\n",
    "abc.compute_fixed_mean(chunk_size=2)"
   ]
  },
  {
   "cell_type": "code",
   "execution_count": null,
   "metadata": {},
   "outputs": [
    {
     "name": "stderr",
     "output_type": "stream",
     "text": [
      "/opt/conda/lib/python3.8/site-packages/distributed/worker.py:3801: UserWarning: Large object of size 2.97 MiB detected in task graph: \n",
      "  (<function ABC.rejection_sampling.<locals>.<lambda ... -2ea6f00228d8')\n",
      "Consider scattering large objects ahead of time\n",
      "with client.scatter to reduce scheduler burden and \n",
      "keep data on workers\n",
      "\n",
      "    future = client.submit(func, big_data)    # bad\n",
      "\n",
      "    big_future = client.scatter(big_data)     # good\n",
      "    future = client.submit(func, big_future)  # good\n",
      "  warnings.warn(\n"
     ]
    }
   ],
   "source": [
    "res = abc.infer(num_samples=100, batch_size=10, chunk_size=2)"
   ]
  },
  {
   "cell_type": "code",
   "execution_count": null,
   "metadata": {},
   "outputs": [],
   "source": [
    "from sklearn.metrics import mean_absolute_error\n",
    "\n",
    "mae_inference = mean_absolute_error(bound, abc.results['inferred_parameters'])"
   ]
  }
 ],
 "metadata": {
  "kernelspec": {
   "display_name": "Python 3",
   "language": "python",
   "name": "python3"
  },
  "language_info": {
   "codemirror_mode": {
    "name": "ipython",
    "version": 3
   },
   "file_extension": ".py",
   "mimetype": "text/x-python",
   "name": "python",
   "nbconvert_exporter": "python",
   "pygments_lexer": "ipython3",
   "version": "3.8.5"
  }
 },
 "nbformat": 4,
 "nbformat_minor": 4
}
