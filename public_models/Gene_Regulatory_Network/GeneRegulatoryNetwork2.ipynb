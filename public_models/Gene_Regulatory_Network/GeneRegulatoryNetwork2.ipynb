{
 "cells": [
  {
   "cell_type": "code",
   "execution_count": 1,
   "metadata": {},
   "outputs": [],
   "source": [
    "%load_ext autoreload\n",
    "%autoreload 2\n",
    "\n",
    "import numpy as np\n",
    "import spatialpy\n",
    "from spatialpy import Model, Species, Parameter, Reaction, Mesh,\\\n",
    "                      PlaceInitialCondition, \\\n",
    "                      UniformInitialCondition, \\\n",
    "                      ScatterInitialCondition"
   ]
  },
  {
   "cell_type": "markdown",
   "metadata": {},
   "source": [
    "# GeneRegulatoryNetwork2"
   ]
  },
  {
   "cell_type": "code",
   "execution_count": 2,
   "metadata": {},
   "outputs": [],
   "source": [
    "class GeneRegulatoryNetwork2(Model):\n",
    "    def __init__(self):\n",
    "        Model.__init__(self, name=\"GeneRegulatoryNetwork2\")\n",
    "\n",
    "        # Domain\n",
    "        mesh = Mesh.read_stochss_domain('GeneRegulatoryNetwork2.smdl')\n",
    "        self.add_mesh(mesh)\n",
    "\n",
    "        self.staticDomain = True\n",
    "\n",
    "        # Variables\n",
    "        G_F = Species(name=\"G_F\", diffusion_constant=1e-12)\n",
    "        G_O = Species(name=\"G_O\", diffusion_constant=1e-12)\n",
    "        P = Species(name=\"P\", diffusion_constant=1e-12)\n",
    "        mRNA = Species(name=\"mRNA\", diffusion_constant=1e-12)\n",
    "        self.add_species([G_F, G_O, P, mRNA])\n",
    "\n",
    "        self.restrict(G_F, [])\n",
    "        self.restrict(G_O, [])\n",
    "\n",
    "        # Initial Conditions\n",
    "        self.add_initial_condition(PlaceInitialCondition(species=G_F, count=1, location=[0, 0, 0]))\n",
    "\n",
    "        # Parameters\n",
    "        mu = Parameter(name=\"mu\", expression=\"0.002\")\n",
    "        kappa = Parameter(name=\"kappa\", expression=\"0.015\")\n",
    "        ka = Parameter(name=\"ka\", expression=\"10000000\")\n",
    "        kd = Parameter(name=\"kd\", expression=\"0.01\")\n",
    "        gamma_m = Parameter(name=\"gamma_m\", expression=\"0.0006\")\n",
    "        gamma_p = Parameter(name=\"gamma_p\", expression=\"0.0003\")\n",
    "        self.add_parameter([mu, kappa, ka, kd, gamma_m, gamma_p])\n",
    "\n",
    "        # Reactions\n",
    "        r1 = Reaction(name=\"r1\", reactants={G_F: 1}, products={G_F: 1, mRNA: 1}, rate=self.listOfParameters[\"mu\"])\n",
    "        r2 = Reaction(name=\"r2\", reactants={G_O: 1}, products={G_F: 1, P: 1}, rate=self.listOfParameters[\"ka\"])\n",
    "        r3 = Reaction(name=\"r3\", reactants={G_F: 1, P: 1}, products={G_O: 1}, rate=self.listOfParameters[\"kd\"])\n",
    "        r4 = Reaction(name=\"r4\", restrict_to=[2], reactants={mRNA: 1}, products={mRNA: 1, P: 1}, rate=self.listOfParameters[\"kappa\"])\n",
    "        r5 = Reaction(name=\"r5\", reactants={mRNA: 1}, products={}, rate=self.listOfParameters[\"gamma_m\"])\n",
    "        r6 = Reaction(name=\"r6\", reactants={P: 1}, products={}, rate=self.listOfParameters[\"gamma_p\"])\n",
    "        self.add_reaction([r1, r2, r3, r4, r5, r6])\n",
    "\n",
    "        # Timespan\n",
    "        self.timespan(np.arange(0, 1000, 10), timestep_size=10)"
   ]
  },
  {
   "cell_type": "code",
   "execution_count": 3,
   "metadata": {},
   "outputs": [],
   "source": [
    "model = GeneRegulatoryNetwork2()"
   ]
  },
  {
   "cell_type": "markdown",
   "metadata": {},
   "source": [
    "# Simulation Parameters"
   ]
  },
  {
   "cell_type": "code",
   "execution_count": 4,
   "metadata": {},
   "outputs": [],
   "source": [
    "def configure_simulation():\n",
    "    kwargs = {\n",
    "        # \"number_of_trajectories\":1,\n",
    "        # \"seed\":None,\n",
    "    }\n",
    "    return kwargs"
   ]
  },
  {
   "cell_type": "code",
   "execution_count": 5,
   "metadata": {},
   "outputs": [],
   "source": [
    "kwargs = configure_simulation()\n",
    "results = model.run(**kwargs)"
   ]
  },
  {
   "cell_type": "markdown",
   "metadata": {},
   "source": [
    "# Visualization"
   ]
  },
  {
   "cell_type": "code",
   "execution_count": null,
   "metadata": {},
   "outputs": [],
   "source": [
    "results.plot_species('G_F', animated=True, width=None, height=None)"
   ]
  }
 ],
 "metadata": {
  "kernelspec": {
   "display_name": "Python 3",
   "language": "python",
   "name": "python3"
  },
  "language_info": {
   "codemirror_mode": {
    "name": "ipython",
    "version": 3
   },
   "file_extension": ".py",
   "mimetype": "text/x-python",
   "name": "python",
   "nbconvert_exporter": "python",
   "pygments_lexer": "ipython3",
   "version": "3.8.5"
  }
 },
 "nbformat": 4,
 "nbformat_minor": 4
}
