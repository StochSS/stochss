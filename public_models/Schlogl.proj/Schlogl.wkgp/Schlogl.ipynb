{
 "cells": [
  {
   "cell_type": "markdown",
   "metadata": {},
   "source": [
    "# Schlogl\n",
    "***\n",
    "Schlogl F. Chemical reaction models for non-equilibrium phase transitions. Zeitschrift for Physik. 1972;253: 147–161. doi:10.1007/bf01379769\n",
    "***\n",
    "## Setup the Environment\n",
    "***"
   ]
  },
  {
   "cell_type": "code",
   "execution_count": null,
   "metadata": {},
   "outputs": [],
   "source": [
    "import gillespy2"
   ]
  },
  {
   "cell_type": "markdown",
   "metadata": {},
   "source": [
    "***\n",
    "## Create the Schlogl Model\n",
    "***"
   ]
  },
  {
   "cell_type": "code",
   "execution_count": null,
   "metadata": {},
   "outputs": [],
   "source": [
    "def create_schlogl(parameter_values=None):\n",
    "    model = gillespy2.Model(name=\"Schlogl\")\n",
    "    model.volume = 1\n",
    "\n",
    "    # Variables\n",
    "    s1 = gillespy2.Species(name=\"s1\", initial_value=300, mode=\"discrete\")\n",
    "    s2 = gillespy2.Species(name=\"s2\", initial_value=300, mode=\"discrete\")\n",
    "    s3 = gillespy2.Species(name=\"s3\", initial_value=300, mode=\"discrete\")\n",
    "    s4 = gillespy2.Species(name=\"s4\", initial_value=300, mode=\"discrete\")\n",
    "    model.add_species([s1, s2, s3, s4])\n",
    "\n",
    "    # Parameters\n",
    "    k1 = gillespy2.Parameter(name=\"k1\", expression=\"1\")\n",
    "    k2 = gillespy2.Parameter(name=\"k2\", expression=\"1\")\n",
    "    model.add_parameter([k1, k2])\n",
    "\n",
    "    # Reactions\n",
    "    r1 = gillespy2.Reaction(\n",
    "        name=\"r1\", rate=\"k1\",\n",
    "        reactants={'s1': 1, 's4': 1}, products={'s4': 2}\n",
    "    )\n",
    "    r2 = gillespy2.Reaction(\n",
    "        name=\"r2\", rate=\"k2\",\n",
    "        reactants={'s2': 1, 's4': 1}, products={'s3': 1}\n",
    "    )\n",
    "    model.add_reaction([r1, r2])\n",
    "\n",
    "    # Timespan\n",
    "    tspan = gillespy2.TimeSpan.arange(1000, t=100000)\n",
    "    model.timespan(tspan)\n",
    "    return model"
   ]
  },
  {
   "cell_type": "markdown",
   "metadata": {},
   "source": [
    "### Instantiate the Model"
   ]
  },
  {
   "cell_type": "code",
   "execution_count": null,
   "metadata": {},
   "outputs": [],
   "source": [
    "model = create_schlogl()"
   ]
  },
  {
   "cell_type": "markdown",
   "metadata": {},
   "source": [
    "***\n",
    "## Simulation Parameters\n",
    "***"
   ]
  },
  {
   "cell_type": "code",
   "execution_count": null,
   "metadata": {},
   "outputs": [],
   "source": [
    "def configure_simulation():\n",
    "    kwargs = {\n",
    "        # \"algorithm\":\"SSA\",\n",
    "        \"number_of_trajectories\":100,\n",
    "        # \"seed\":None,\n",
    "        # \"tau_tol\":0.03,\n",
    "        # \"integrator_options\":{'rtol': 0.001, 'atol': 1e-06},\n",
    "    }\n",
    "    return kwargs"
   ]
  },
  {
   "cell_type": "markdown",
   "metadata": {},
   "source": [
    "***\n",
    "## Run the Simulation\n",
    "***"
   ]
  },
  {
   "cell_type": "code",
   "execution_count": null,
   "metadata": {},
   "outputs": [],
   "source": [
    "kwargs = configure_simulation()\n",
    "results = model.run(**kwargs)"
   ]
  },
  {
   "cell_type": "markdown",
   "metadata": {},
   "source": [
    "***\n",
    "## Visualization\n",
    "***"
   ]
  },
  {
   "cell_type": "code",
   "execution_count": null,
   "metadata": {},
   "outputs": [],
   "source": [
    "results.plotplotly()"
   ]
  }
 ],
 "metadata": {
  "kernelspec": {
   "display_name": "Python 3",
   "language": "python",
   "name": "python3"
  },
  "language_info": {
   "codemirror_mode": {
    "name": "ipython",
    "version": 3
   },
   "file_extension": ".py",
   "mimetype": "text/x-python",
   "name": "python",
   "nbconvert_exporter": "python",
   "pygments_lexer": "ipython3",
   "version": "3.8.5"
  }
 },
 "nbformat": 4,
 "nbformat_minor": 4
}
