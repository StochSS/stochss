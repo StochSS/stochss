{
 "cells": [
  {
   "cell_type": "markdown",
   "metadata": {},
   "source": [
    "# Gene Regulatory Network 1\n",
    "***\n",
    "Here we illustrate how to implement the model describet in [Sturrock M, Hellander A, Matzavinos A, Chaplain MAJ. 2013 Spatial stochastic modelling of the Hes1 gene regulatory network: intrinsic noise can explain heterogeneity in embryonic stem cell differentiation. J R Soc Interface 10:20120988]\n",
    "\n",
    "This model uses the hes1 mesh (slide 66)\n",
    "***\n",
    "## Setup the Environment\n",
    "***"
   ]
  },
  {
   "cell_type": "code",
   "execution_count": null,
   "metadata": {},
   "outputs": [],
   "source": [
    "import spatialpy"
   ]
  },
  {
   "cell_type": "markdown",
   "metadata": {},
   "source": [
    "***\n",
    "## Create the Gene Regulatory Network 1 Model\n",
    "***"
   ]
  },
  {
   "cell_type": "code",
   "execution_count": null,
   "metadata": {},
   "outputs": [],
   "source": [
    "def create_gene_regulatory_network_1(parameter_values=None):\n",
    "    model = spatialpy.Model(name=\"Gene_Regulatory_Network_1\")\n",
    "\n",
    "    model.NUCLEUS = 'Nucleus'\n",
    "    model.CYTOPLASM = 'Cytoplasm'\n",
    "\n",
    "    # Domain\n",
    "    domain = spatialpy.Domain.read_stochss_domain('Gene_Regulatory_Network_1.smdl')\n",
    "    model.add_domain(domain)\n",
    "\n",
    "    model.staticDomain = True\n",
    "\n",
    "    # Variables\n",
    "    G_F = spatialpy.Species(name=\"G_F\", diffusion_coefficient=0)\n",
    "    G_O = spatialpy.Species(name=\"G_O\", diffusion_coefficient=0)\n",
    "    P = spatialpy.Species(name=\"P\", diffusion_coefficient=1e-12)\n",
    "    mRNA = spatialpy.Species(name=\"mRNA\", diffusion_coefficient=1e-12)\n",
    "    model.add_species([G_F, G_O, P, mRNA])\n",
    "\n",
    "    # Initial Conditions\n",
    "    G_F_ic = spatialpy.PlaceInitialCondition(species=\"G_F\", count=1, location=[0, 0, 0])\n",
    "    model.add_initial_condition(G_F_ic)\n",
    "\n",
    "    # Parameters\n",
    "    mu = spatialpy.Parameter(name=\"mu\", expression=\"0.002\")\n",
    "    kappa = spatialpy.Parameter(name=\"kappa\", expression=\"0.015\")\n",
    "    ka = spatialpy.Parameter(name=\"ka\", expression=\"1.6605778811e-20\")\n",
    "    kd = spatialpy.Parameter(name=\"kd\", expression=\"0.01\")\n",
    "    gamma_m = spatialpy.Parameter(name=\"gamma_m\", expression=\"0.0006\")\n",
    "    gamma_p = spatialpy.Parameter(name=\"gamma_p\", expression=\"0.0003\")\n",
    "    model.add_parameter([mu, kappa, ka, kd, gamma_m, gamma_p])\n",
    "\n",
    "    # Reactions\n",
    "    R1 = spatialpy.Reaction(\n",
    "        name=\"R1\", rate=\"ka\",\n",
    "        reactants={'G_F': 1, 'P': 1}, products={'G_O': 1}\n",
    "    )\n",
    "    R2 = spatialpy.Reaction(\n",
    "        name=\"R2\", rate=\"kappa\", restrict_to=[model.CYTOPLASM],\n",
    "        reactants={'mRNA': 1}, products={'mRNA': 1, 'P': 1}\n",
    "    )\n",
    "    R3 = spatialpy.Reaction(\n",
    "        name=\"R3\", rate=\"mu\",\n",
    "        reactants={'G_F': 1}, products={'G_F': 1, 'mRNA': 1}\n",
    "    )\n",
    "    R4 = spatialpy.Reaction(\n",
    "        name=\"R4\", rate=\"gamma_m\",\n",
    "        reactants={'mRNA': 1}, products={}\n",
    "    )\n",
    "    R5 = spatialpy.Reaction(\n",
    "        name=\"R5\", rate=\"gamma_p\",\n",
    "        reactants={'P': 1}, products={}\n",
    "    )\n",
    "    R6 = spatialpy.Reaction(\n",
    "        name=\"R6\", rate=\"kd\",\n",
    "        reactants={'G_O': 1}, products={'G_F': 1, 'P': 1}\n",
    "    )\n",
    "    model.add_reaction([R1, R2, R3, R4, R5, R6])\n",
    "\n",
    "    # Timespan\n",
    "    tspan = spatialpy.TimeSpan.arange(43.221610805402705, t=86400, timestep_size=1)\n",
    "    model.timespan(tspan)\n",
    "    return model"
   ]
  },
  {
   "cell_type": "markdown",
   "metadata": {},
   "source": [
    "### Instantiate the Model"
   ]
  },
  {
   "cell_type": "code",
   "execution_count": null,
   "metadata": {},
   "outputs": [],
   "source": [
    "model = create_gene_regulatory_network_1()"
   ]
  },
  {
   "cell_type": "markdown",
   "metadata": {},
   "source": [
    "***\n",
    "## Simulation Parameters\n",
    "***"
   ]
  },
  {
   "cell_type": "code",
   "execution_count": null,
   "metadata": {},
   "outputs": [],
   "source": [
    "def configure_simulation():\n",
    "    kwargs = {\n",
    "        # \"number_of_trajectories\":1,\n",
    "        # \"seed\":None,\n",
    "    }\n",
    "    return kwargs"
   ]
  },
  {
   "cell_type": "markdown",
   "metadata": {},
   "source": [
    "***\n",
    "## Run the Simulation\n",
    "***"
   ]
  },
  {
   "cell_type": "code",
   "execution_count": null,
   "metadata": {},
   "outputs": [],
   "source": [
    "kwargs = configure_simulation()\n",
    "results = model.run(**kwargs)"
   ]
  },
  {
   "cell_type": "markdown",
   "metadata": {},
   "source": [
    "***\n",
    "## Visualization\n",
    "***"
   ]
  },
  {
   "cell_type": "code",
   "execution_count": null,
   "metadata": {},
   "outputs": [],
   "source": [
    "results.plot_species('G_F', animated=True, width=None, height=None)"
   ]
  }
 ],
 "metadata": {
  "kernelspec": {
   "display_name": "Python 3 (ipykernel)",
   "language": "python",
   "name": "python3"
  },
  "language_info": {
   "codemirror_mode": {
    "name": "ipython",
    "version": 3
   },
   "file_extension": ".py",
   "mimetype": "text/x-python",
   "name": "python",
   "nbconvert_exporter": "python",
   "pygments_lexer": "ipython3",
   "version": "3.9.9"
  }
 },
 "nbformat": 4,
 "nbformat_minor": 4
}
