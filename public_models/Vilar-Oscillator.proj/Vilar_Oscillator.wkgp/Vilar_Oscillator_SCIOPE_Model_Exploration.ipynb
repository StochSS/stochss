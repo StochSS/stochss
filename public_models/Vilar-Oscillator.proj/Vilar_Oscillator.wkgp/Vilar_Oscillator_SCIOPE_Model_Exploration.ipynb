{
 "cells": [
  {
   "cell_type": "markdown",
   "metadata": {},
   "source": [
    "# Vilar Oscillator\n",
    "***\n",
    "**From:** Vilar, José M. G. et al. “Mechanisms of noise-resistance in genetic oscillators.” PNAS, vol. 99 no. 9, 2002, pp. 5988-5992., doi.org/10.1073/pnas.092133899.\n",
    "***\n",
    "## Setup the Environment\n",
    "***"
   ]
  },
  {
   "cell_type": "code",
   "execution_count": null,
   "metadata": {},
   "outputs": [],
   "source": [
    "import numpy\n",
    "from dask.distributed import Client"
   ]
  },
  {
   "cell_type": "code",
   "execution_count": null,
   "metadata": {},
   "outputs": [],
   "source": [
    "import gillespy2"
   ]
  },
  {
   "cell_type": "code",
   "execution_count": null,
   "metadata": {},
   "outputs": [],
   "source": [
    "from sciope.utilities.gillespy2 import wrapper\n",
    "from sciope.designs import latin_hypercube_sampling\n",
    "from sciope.utilities.summarystats.auto_tsfresh import SummariesTSFRESH\n",
    "from sciope.stochmet.stochmet import StochMET\n",
    "from sciope.models.label_propagation import LPModel"
   ]
  },
  {
   "cell_type": "markdown",
   "metadata": {},
   "source": [
    "***\n",
    "## Create the Vilar Oscillator Model\n",
    "***"
   ]
  },
  {
   "cell_type": "code",
   "execution_count": null,
   "metadata": {},
   "outputs": [],
   "source": [
    "def create_vilar_oscillator(parameter_values=None):\n",
    "    model = gillespy2.Model(name=\"Vilar_Oscillator\")\n",
    "    model.volume = 1\n",
    "\n",
    "    # Variables\n",
    "    Da = gillespy2.Species(name=\"Da\", initial_value=1, mode=\"discrete\")\n",
    "    Da_prime = gillespy2.Species(name=\"Da_prime\", initial_value=0, mode=\"discrete\")\n",
    "    Ma = gillespy2.Species(name=\"Ma\", initial_value=0, mode=\"discrete\")\n",
    "    Dr = gillespy2.Species(name=\"Dr\", initial_value=1, mode=\"discrete\")\n",
    "    Dr_prime = gillespy2.Species(name=\"Dr_prime\", initial_value=0, mode=\"discrete\")\n",
    "    Mr = gillespy2.Species(name=\"Mr\", initial_value=0, mode=\"discrete\")\n",
    "    C = gillespy2.Species(name=\"C\", initial_value=0, mode=\"discrete\")\n",
    "    A = gillespy2.Species(name=\"A\", initial_value=0, mode=\"discrete\")\n",
    "    R = gillespy2.Species(name=\"R\", initial_value=0, mode=\"discrete\")\n",
    "    model.add_species([Da, Da_prime, Ma, Dr, Dr_prime, Mr, C, A, R])\n",
    "\n",
    "    # Parameters\n",
    "    alphaA = gillespy2.Parameter(name=\"alphaA\", expression=\"50\")\n",
    "    alphaA_prime = gillespy2.Parameter(name=\"alphaA_prime\", expression=\"500\")\n",
    "    alphaR = gillespy2.Parameter(name=\"alphaR\", expression=\"0.01\")\n",
    "    alphaR_prime = gillespy2.Parameter(name=\"alphaR_prime\", expression=\"50\")\n",
    "    betaA = gillespy2.Parameter(name=\"betaA\", expression=\"50\")\n",
    "    betaR = gillespy2.Parameter(name=\"betaR\", expression=\"5\")\n",
    "    deltaMA = gillespy2.Parameter(name=\"deltaMA\", expression=\"10\")\n",
    "    deltaMR = gillespy2.Parameter(name=\"deltaMR\", expression=\"0.5\")\n",
    "    deltaA = gillespy2.Parameter(name=\"deltaA\", expression=\"1\")\n",
    "    deltaR = gillespy2.Parameter(name=\"deltaR\", expression=\"0.2\")\n",
    "    gammaA = gillespy2.Parameter(name=\"gammaA\", expression=\"1\")\n",
    "    gammaR = gillespy2.Parameter(name=\"gammaR\", expression=\"1\")\n",
    "    gammaC = gillespy2.Parameter(name=\"gammaC\", expression=\"2\")\n",
    "    thetaA = gillespy2.Parameter(name=\"thetaA\", expression=\"50\")\n",
    "    thetaR = gillespy2.Parameter(name=\"thetaR\", expression=\"100\")\n",
    "    model.add_parameter([\n",
    "        alphaA, alphaA_prime, alphaR, alphaR_prime, betaA, betaR, deltaMA,\n",
    "        deltaMR, deltaA, deltaR, gammaA, gammaR, gammaC, thetaA, thetaR\n",
    "    ])\n",
    "\n",
    "    # Reactions\n",
    "    r1 = gillespy2.Reaction(\n",
    "        name=\"r1\", rate=\"gammaC\",\n",
    "        reactants={'A': 1, 'R': 1}, products={'C': 1}\n",
    "    )\n",
    "    r2 = gillespy2.Reaction(\n",
    "        name=\"r2\", rate=\"deltaA\",\n",
    "        reactants={'A': 1}, products={}\n",
    "    )\n",
    "    r3 = gillespy2.Reaction(\n",
    "        name=\"r3\", rate=\"deltaA\",\n",
    "        reactants={'C': 1}, products={'R': 1}\n",
    "    )\n",
    "    r4 = gillespy2.Reaction(\n",
    "        name=\"r4\", rate=\"deltaR\",\n",
    "        reactants={'R': 1}, products={}\n",
    "    )\n",
    "    r5 = gillespy2.Reaction(\n",
    "        name=\"r5\", rate=\"gammaA\",\n",
    "        reactants={'A': 1, 'Da': 1}, products={'Da_prime': 1}\n",
    "    )\n",
    "    r6 = gillespy2.Reaction(\n",
    "        name=\"r6\", rate=\"thetaA\",\n",
    "        reactants={'Da_prime': 1}, products={'A': 1, 'Da': 1}\n",
    "    )\n",
    "    r7 = gillespy2.Reaction(\n",
    "        name=\"r7\", rate=\"alphaA\",\n",
    "        reactants={'Da': 1}, products={'Da': 1, 'Ma': 1}\n",
    "    )\n",
    "    r8 = gillespy2.Reaction(\n",
    "        name=\"r8\", rate=\"alphaA_prime\",\n",
    "        reactants={'Da_prime': 1}, products={'Da_prime': 1, 'Ma': 1}\n",
    "    )\n",
    "    r9 = gillespy2.Reaction(\n",
    "        name=\"r9\", rate=\"deltaMA\",\n",
    "        reactants={'Ma': 1}, products={}\n",
    "    )\n",
    "    r10 = gillespy2.Reaction(\n",
    "        name=\"r10\", rate=\"betaA\",\n",
    "        reactants={'Ma': 1}, products={'A': 1, 'Ma': 1}\n",
    "    )\n",
    "    r11 = gillespy2.Reaction(\n",
    "        name=\"r11\", rate=\"gammaR\",\n",
    "        reactants={'A': 1, 'Dr': 1}, products={'Dr_prime': 1}\n",
    "    )\n",
    "    r12 = gillespy2.Reaction(\n",
    "        name=\"r12\", rate=\"thetaR\",\n",
    "        reactants={'Dr_prime': 1}, products={'A': 1, 'Dr': 1}\n",
    "    )\n",
    "    r13 = gillespy2.Reaction(\n",
    "        name=\"r13\", rate=\"alphaR\",\n",
    "        reactants={'Dr': 1}, products={'Dr': 1, 'Mr': 1}\n",
    "    )\n",
    "    r14 = gillespy2.Reaction(\n",
    "        name=\"r14\", rate=\"alphaR_prime\",\n",
    "        reactants={'Dr_prime': 1}, products={'Dr_prime': 1, 'Mr': 1}\n",
    "    )\n",
    "    r15 = gillespy2.Reaction(\n",
    "        name=\"r15\", rate=\"deltaMR\",\n",
    "        reactants={'Mr': 1}, products={}\n",
    "    )\n",
    "    r16 = gillespy2.Reaction(\n",
    "        name=\"r16\", rate=\"betaR\",\n",
    "        reactants={'Mr': 1}, products={'Mr': 1, 'R': 1}\n",
    "    )\n",
    "    model.add_reaction([r1, r2, r3, r4, r5, r6, r7, r8, r9, r10, r11, r12, r13, r14, r15, r16])\n",
    "\n",
    "    # Timespan\n",
    "    tspan = gillespy2.TimeSpan.arange(1, t=200)\n",
    "    model.timespan(tspan)\n",
    "    return model"
   ]
  },
  {
   "cell_type": "markdown",
   "metadata": {},
   "source": [
    "### Instantiate the Model"
   ]
  },
  {
   "cell_type": "code",
   "execution_count": null,
   "metadata": {},
   "outputs": [],
   "source": [
    "model = create_vilar_oscillator()"
   ]
  },
  {
   "cell_type": "markdown",
   "metadata": {},
   "source": [
    "***\n",
    "## Simulation Parameters\n",
    "***"
   ]
  },
  {
   "cell_type": "code",
   "execution_count": null,
   "metadata": {},
   "outputs": [],
   "source": [
    "def configure_simulation():\n",
    "    solver = gillespy2.SSACSolver(model=model)\n",
    "    kwargs = {\n",
    "        \"solver\":solver,\n",
    "        \"number_of_trajectories\":100,\n",
    "        # \"seed\":None,\n",
    "        # \"tau_tol\":0.03,\n",
    "        # \"integrator_options\":{'rtol': 0.001, 'atol': 1e-06},\n",
    "    }\n",
    "    return kwargs"
   ]
  },
  {
   "cell_type": "markdown",
   "metadata": {},
   "source": [
    "***\n",
    "## Model Exploration\n",
    "***\n",
    "### Define simulator function (using gillespy2 wrapper)"
   ]
  },
  {
   "cell_type": "code",
   "execution_count": null,
   "metadata": {},
   "outputs": [],
   "source": [
    "settings = configure_simulation()\n",
    "simulator = wrapper.get_simulator(gillespy_model=model, run_settings=settings, species_of_interest=['Da', 'Da_prime', 'Ma', 'Dr', 'Dr_prime', 'Mr', 'C', 'A', 'R'])\n",
    "expression_array = wrapper.get_parameter_expression_array(model)"
   ]
  },
  {
   "cell_type": "markdown",
   "metadata": {},
   "source": [
    "### Start local cluster using dask client"
   ]
  },
  {
   "cell_type": "code",
   "execution_count": null,
   "metadata": {},
   "outputs": [],
   "source": [
    "c = Client()\n",
    "c"
   ]
  },
  {
   "cell_type": "markdown",
   "metadata": {},
   "source": [
    "### Define parameter sampler/design and summary statistics"
   ]
  },
  {
   "cell_type": "code",
   "execution_count": null,
   "metadata": {},
   "outputs": [],
   "source": [
    "lhc = latin_hypercube_sampling.LatinHypercube(xmin=expression_array, xmax=expression_array*3)\n",
    "lhc.generate_array(1000) # creates a LHD of size 1000\n",
    "\n",
    "# will use default minimal set of features\n",
    "summary_stats = SummariesTSFRESH()"
   ]
  },
  {
   "cell_type": "markdown",
   "metadata": {},
   "source": [
    "### Initiate StochMET"
   ]
  },
  {
   "cell_type": "code",
   "execution_count": null,
   "metadata": {},
   "outputs": [],
   "source": [
    "met = StochMET(simulator, lhc, summary_stats)"
   ]
  },
  {
   "cell_type": "markdown",
   "metadata": {},
   "source": [
    "***\n",
    "## Run parameter sweep\n",
    "***"
   ]
  },
  {
   "cell_type": "code",
   "execution_count": null,
   "metadata": {},
   "outputs": [],
   "source": [
    "met.compute(n_points=500, chunk_size=10)"
   ]
  },
  {
   "cell_type": "markdown",
   "metadata": {},
   "source": [
    "***\n",
    "## Explore the result\n",
    "***\n",
    "First lets add some appropiate information about the model and features"
   ]
  },
  {
   "cell_type": "code",
   "execution_count": null,
   "metadata": {},
   "outputs": [],
   "source": [
    "met.data.configurations['listOfParameters'] = list(model.listOfParameters.keys())\n",
    "met.data.configurations['listOfSpecies'] = list(model.listOfSpecies.keys())\n",
    "met.data.configurations['listOfSummaries'] = met.summaries.features\n",
    "met.data.configurations['timepoints'] = model.tspan"
   ]
  },
  {
   "cell_type": "markdown",
   "metadata": {},
   "source": [
    "Here we use UMAP for dimension reduction"
   ]
  },
  {
   "cell_type": "code",
   "execution_count": null,
   "metadata": {},
   "outputs": [],
   "source": [
    "met.explore(dr_method='umap')"
   ]
  },
  {
   "cell_type": "markdown",
   "metadata": {},
   "source": [
    "Here lets use the dimension reduction embedding as input data"
   ]
  },
  {
   "cell_type": "code",
   "execution_count": null,
   "metadata": {},
   "outputs": [],
   "source": [
    "data = met.dr_model.embedding_\n",
    "\n",
    "model_lp = LPModel()\n",
    "# train using basinhopping\n",
    "model_lp.train(data, met.data.user_labels, min_=0.01, max_=10, niter=50)"
   ]
  },
  {
   "cell_type": "markdown",
   "metadata": {},
   "source": [
    "Just to vislualize the result we will map the label distribution to the user_labels (will enable us to see the LP model output when using method 'explore')"
   ]
  },
  {
   "cell_type": "code",
   "execution_count": null,
   "metadata": {},
   "outputs": [],
   "source": [
    "user_labels = numpy.copy(met.data.user_labels)\n",
    "# takes the label corresponding to index 0\n",
    "met.data.user_labels = model_lp.model.label_distributions_[:, 0]"
   ]
  },
  {
   "cell_type": "code",
   "execution_count": null,
   "metadata": {},
   "outputs": [],
   "source": [
    "met.explore(dr_method='umap')"
   ]
  },
  {
   "cell_type": "code",
   "execution_count": null,
   "metadata": {},
   "outputs": [],
   "source": [
    "met.data.user_labels = user_labels"
   ]
  }
 ],
 "metadata": {
  "kernelspec": {
   "display_name": "Python 3",
   "language": "python",
   "name": "python3"
  },
  "language_info": {
   "codemirror_mode": {
    "name": "ipython",
    "version": 3
   },
   "file_extension": ".py",
   "mimetype": "text/x-python",
   "name": "python",
   "nbconvert_exporter": "python",
   "pygments_lexer": "ipython3",
   "version": "3.8.5"
  }
 },
 "nbformat": 4,
 "nbformat_minor": 4
}
