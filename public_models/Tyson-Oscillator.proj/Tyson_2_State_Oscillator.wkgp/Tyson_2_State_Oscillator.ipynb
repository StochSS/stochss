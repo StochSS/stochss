{
 "cells": [
  {
   "cell_type": "markdown",
   "metadata": {},
   "source": [
    "# Tyson 2 State Oscillator\n",
    "***\n",
    "Here, as a test case, we run a simple two-state oscillator (Novak & Tyson 2008) as an example of a stochastic reaction system.\n",
    "***\n",
    "## Setup the Environment\n",
    "***"
   ]
  },
  {
   "cell_type": "code",
   "execution_count": null,
   "metadata": {},
   "outputs": [],
   "source": [
    "import gillespy2"
   ]
  },
  {
   "cell_type": "markdown",
   "metadata": {},
   "source": [
    "***\n",
    "## Create the Tyson 2 State Oscillator Model\n",
    "***"
   ]
  },
  {
   "cell_type": "code",
   "execution_count": null,
   "metadata": {},
   "outputs": [],
   "source": [
    "def create_tyspn_2_state_oscillator(parameter_values=None):\n",
    "    model = gillespy2.Model(name=\"Tyson_2_State_Oscillator\")\n",
    "    model.volume = 300\n",
    "\n",
    "    # Variables\n",
    "    X = gillespy2.Species(name=\"X\", initial_value=196, mode=\"discrete\")\n",
    "    Y = gillespy2.Species(name=\"Y\", initial_value=255, mode=\"discrete\")\n",
    "    model.add_species([X, Y])\n",
    "\n",
    "    # Parameters\n",
    "    P = gillespy2.Parameter(name=\"P\", expression=\"2\")\n",
    "    kt = gillespy2.Parameter(name=\"kt\", expression=\"20\")\n",
    "    kd = gillespy2.Parameter(name=\"kd\", expression=\"1\")\n",
    "    a0 = gillespy2.Parameter(name=\"a0\", expression=\"0.005\")\n",
    "    a1 = gillespy2.Parameter(name=\"a1\", expression=\"0.05\")\n",
    "    a2 = gillespy2.Parameter(name=\"a2\", expression=\"0.1\")\n",
    "    kdx = gillespy2.Parameter(name=\"kdx\", expression=\"1\")\n",
    "    model.add_parameter([P, kt, kd, a0, a1, a2, kdx])\n",
    "\n",
    "    # Reactions\n",
    "    rxn1 = gillespy2.Reaction(\n",
    "        name=\"rxn1\",\n",
    "        reactants={}, products={'X': 1},\n",
    "        propensity_function=\"vol*1/(1+(Y*Y/((vol*vol))))\",\n",
    "        ode_propensity_function=\"vol*1/(1+(Y*Y/((vol*vol))))\"\n",
    "    )\n",
    "    rxn2 = gillespy2.Reaction(\n",
    "        name=\"rxn2\", rate=\"kdx\",\n",
    "        reactants={'X': 1}, products={}\n",
    "    )\n",
    "    rxn3 = gillespy2.Reaction(\n",
    "        name=\"rxn3\", rate=\"kt\",\n",
    "        reactants={'X': 1}, products={'X': 1, 'Y': 1}\n",
    "    )\n",
    "    rxn4 = gillespy2.Reaction(\n",
    "        name=\"rxn4\", rate=\"kd\",\n",
    "        reactants={'Y': 1}, products={}\n",
    "    )\n",
    "    rxn5 = gillespy2.Reaction(\n",
    "        name=\"rxn5\",\n",
    "        reactants={'Y': 1}, products={},\n",
    "        propensity_function=\"Y/(a0 + a1*(Y/vol)+a2*Y*Y/(vol*vol))\",\n",
    "        ode_propensity_function=\"Y/(a0 + a1*(Y/vol)+a2*Y*Y/(vol*vol))\"\n",
    "    )\n",
    "    model.add_reaction([rxn1, rxn2, rxn3, rxn4, rxn5])\n",
    "\n",
    "    # Timespan\n",
    "    tspan = gillespy2.TimeSpan.arange(1, 20)\n",
    "    model.timespan(tspan)\n",
    "    return model"
   ]
  },
  {
   "cell_type": "markdown",
   "metadata": {},
   "source": [
    "### Instantiate the Model"
   ]
  },
  {
   "cell_type": "code",
   "execution_count": null,
   "metadata": {},
   "outputs": [],
   "source": [
    "model = create_tyspn_2_state_oscillator()"
   ]
  },
  {
   "cell_type": "markdown",
   "metadata": {},
   "source": [
    "***\n",
    "## Simulation Parameters\n",
    "***"
   ]
  },
  {
   "cell_type": "code",
   "execution_count": null,
   "metadata": {},
   "outputs": [],
   "source": [
    "def configure_simulation():\n",
    "    kwargs = {\n",
    "        # \"algorithm\":\"SSA\",\n",
    "        \"number_of_trajectories\":100,\n",
    "        # \"seed\":None,\n",
    "        # \"tau_tol\":0.03,\n",
    "        # \"integrator_options\":{'rtol': 0.001, 'atol': 1e-06},\n",
    "    }\n",
    "    return kwargs"
   ]
  },
  {
   "cell_type": "markdown",
   "metadata": {},
   "source": [
    "***\n",
    "## Run the Simulation\n",
    "***"
   ]
  },
  {
   "cell_type": "code",
   "execution_count": null,
   "metadata": {},
   "outputs": [],
   "source": [
    "kwargs = configure_simulation()\n",
    "results = model.run(**kwargs)"
   ]
  },
  {
   "cell_type": "markdown",
   "metadata": {},
   "source": [
    "***\n",
    "## Visualization\n",
    "***"
   ]
  },
  {
   "cell_type": "code",
   "execution_count": null,
   "metadata": {},
   "outputs": [],
   "source": [
    "results.plotplotly()"
   ]
  }
 ],
 "metadata": {
  "kernelspec": {
   "display_name": "Python 3",
   "language": "python",
   "name": "python3"
  },
  "language_info": {
   "codemirror_mode": {
    "name": "ipython",
    "version": 3
   },
   "file_extension": ".py",
   "mimetype": "text/x-python",
   "name": "python",
   "nbconvert_exporter": "python",
   "pygments_lexer": "ipython3",
   "version": "3.8.5"
  }
 },
 "nbformat": 4,
 "nbformat_minor": 4
}
