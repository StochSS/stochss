{
 "cells": [
  {
   "cell_type": "markdown",
   "metadata": {},
   "source": [
    "# Spatial Birth Death\n",
    "***\n",
    "## Setup the Environment\n",
    "***"
   ]
  },
  {
   "cell_type": "code",
   "execution_count": null,
   "metadata": {},
   "outputs": [],
   "source": [
    "import spatialpy"
   ]
  },
  {
   "cell_type": "markdown",
   "metadata": {},
   "source": [
    "***\n",
    "## Create the Spatial Birth Death Model\n",
    "***"
   ]
  },
  {
   "cell_type": "code",
   "execution_count": null,
   "metadata": {},
   "outputs": [],
   "source": [
    "def create_spatial_birth_death(parameter_values=None):\n",
    "    model = spatialpy.Model(name=\"Spatial_Birth_Death\")\n",
    "\n",
    "    model.HABITAT = 'Habitat'\n",
    "\n",
    "    # Domain\n",
    "    domain = spatialpy.Domain.read_stochss_domain('Spatial_Birth_Death.smdl')\n",
    "    model.add_domain(domain)\n",
    "    \n",
    "    model.staticDomain = True\n",
    "\n",
    "    # Variables\n",
    "    Rabbit = spatialpy.Species(name=\"Rabbit\", diffusion_coefficient=0.1)\n",
    "    model.add_species([Rabbit])\n",
    "\n",
    "    # Initial Conditions\n",
    "    Rabbit_ic = spatialpy.ScatterInitialCondition(species=\"Rabbit\", count=100)\n",
    "    model.add_initial_condition(Rabbit_ic)\n",
    "\n",
    "    # Parameters\n",
    "    k_birth = spatialpy.Parameter(name=\"k_birth\", expression=\"10\")\n",
    "    k_death = spatialpy.Parameter(name=\"k_death\", expression=\"0.1\")\n",
    "    model.add_parameter([k_birth, k_death])\n",
    "\n",
    "    # Reactions\n",
    "    birth = spatialpy.Reaction(\n",
    "        name=\"birth\", rate=\"k_birth\",\n",
    "        reactants={}, products={'Rabbit': 1}\n",
    "    )\n",
    "    death = spatialpy.Reaction(\n",
    "        name=\"death\", rate=\"k_death\",\n",
    "        reactants={'Rabbit': 1}, products={}\n",
    "    )\n",
    "    model.add_reaction([birth, death])\n",
    "\n",
    "    # Timespan\n",
    "    tspan = spatialpy.TimeSpan.arange(1, t=10, timestep_size=1)\n",
    "    model.timespan(tspan)\n",
    "    return model"
   ]
  },
  {
   "cell_type": "markdown",
   "metadata": {},
   "source": [
    "### Instantiate the Model"
   ]
  },
  {
   "cell_type": "code",
   "execution_count": null,
   "metadata": {},
   "outputs": [],
   "source": [
    "model = create_spatial_birth_death()"
   ]
  },
  {
   "cell_type": "markdown",
   "metadata": {},
   "source": [
    "***\n",
    "## Simulation Parameters\n",
    "***"
   ]
  },
  {
   "cell_type": "code",
   "execution_count": null,
   "metadata": {},
   "outputs": [],
   "source": [
    "def configure_simulation():\n",
    "    kwargs = {\n",
    "        # \"number_of_trajectories\":1,\n",
    "        # \"seed\":None,\n",
    "    }\n",
    "    return kwargs"
   ]
  },
  {
   "cell_type": "markdown",
   "metadata": {},
   "source": [
    "***\n",
    "## Run the Simulation\n",
    "***"
   ]
  },
  {
   "cell_type": "code",
   "execution_count": null,
   "metadata": {},
   "outputs": [],
   "source": [
    "kwargs = configure_simulation()\n",
    "results = model.run(**kwargs)"
   ]
  },
  {
   "cell_type": "markdown",
   "metadata": {},
   "source": [
    "***\n",
    "## Visualization\n",
    "***"
   ]
  },
  {
   "cell_type": "code",
   "execution_count": null,
   "metadata": {},
   "outputs": [],
   "source": [
    "results.plot_species('Rabbit', animated=True, width=None, height=None)"
   ]
  }
 ],
 "metadata": {
  "kernelspec": {
   "display_name": "Python 3 (ipykernel)",
   "language": "python",
   "name": "python3"
  },
  "language_info": {
   "codemirror_mode": {
    "name": "ipython",
    "version": 3
   },
   "file_extension": ".py",
   "mimetype": "text/x-python",
   "name": "python",
   "nbconvert_exporter": "python",
   "pygments_lexer": "ipython3",
   "version": "3.9.9"
  }
 },
 "nbformat": 4,
 "nbformat_minor": 4
}
