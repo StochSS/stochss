{
 "cells": [
  {
   "cell_type": "markdown",
   "metadata": {},
   "source": [
    "# Polarization In Yeast\n",
    "***\n",
    "Reactions could not be completed from the slides (74 - 82)\n",
    "***\n",
    "## Setup the Environment\n",
    "***"
   ]
  },
  {
   "cell_type": "code",
   "execution_count": null,
   "metadata": {},
   "outputs": [],
   "source": [
    "import spatialpy"
   ]
  },
  {
   "cell_type": "markdown",
   "metadata": {},
   "source": [
    "***\n",
    "## Create the Polarization In Yeast Model\n",
    "***"
   ]
  },
  {
   "cell_type": "code",
   "execution_count": null,
   "metadata": {},
   "outputs": [],
   "source": [
    "def create_polarization_in_yeast(parameter_values=None):\n",
    "    model = spatialpy.Model(name=\"Polarization_In_Yeast\")\n",
    "\n",
    "    model.CYTOPLASM = 'Cytoplasm'\n",
    "    model.MEMBRANE = 'Membrane'\n",
    "\n",
    "    # Domain\n",
    "    domain = spatialpy.Domain.read_stochss_domain('Polarization_In_Yeast.smdl')\n",
    "    model.add_domain(domain)\n",
    "\n",
    "    model.staticDomain = True\n",
    "\n",
    "    # Variables\n",
    "    Cdc42c = spatialpy.Species(name=\"Cdc42c\", diffusion_coefficient=10)\n",
    "    Cdc42m = spatialpy.Species(name=\"Cdc42m\", diffusion_coefficient=0.0053, restrict_to=[model.MEMBRANE])\n",
    "    model.add_species([Cdc42c, Cdc42m])\n",
    "\n",
    "    # Initial Conditions\n",
    "    Cdc42c_ic = spatialpy.ScatterInitialCondition(species=\"Cdc42c\", count=300, types=[model.CYTOPLASM])\n",
    "    Cdc42m_ic = spatialpy.ScatterInitialCondition(species=\"Cdc42m\", count=100, types=[model.MEMBRANE])\n",
    "    model.add_initial_condition([Cdc42c_ic, Cdc42m_ic])\n",
    "\n",
    "    # Parameters\n",
    "    kon = spatialpy.Parameter(name=\"kon\", expression=\"1.6666666667e-05\")\n",
    "    koff = spatialpy.Parameter(name=\"koff\", expression=\"0.15\")\n",
    "    kfb = spatialpy.Parameter(name=\"kfb\", expression=\"0.166666666666667\")\n",
    "    model.add_parameter([kon, koff, kfb])\n",
    "\n",
    "    # Reactions\n",
    "    r1 = spatialpy.Reaction(\n",
    "        name=\"r1\", rate=\"kon\",\n",
    "        reactants={'Cdc42c': 1}, products={'Cdc42m': 1}\n",
    "    )\n",
    "    r2 = spatialpy.Reaction(\n",
    "        name=\"r2\", rate=\"koff\",\n",
    "        reactants={'Cdc42m': 1}, products={'Cdc42c': 1}\n",
    "    )\n",
    "    r3 = spatialpy.Reaction(\n",
    "        name=\"r3\", rate=\"kfb\", restrict_to=[model.MEMBRANE],\n",
    "        reactants={'Cdc42c': 1, 'Cdc42m': 1}, products={'Cdc42m': 2}\n",
    "    )\n",
    "    model.add_reaction([r1, r2, r3])\n",
    "\n",
    "    # Timespan\n",
    "    tspan = spatialpy.TimeSpan.arange(10, t=5000, timestep_size=1)\n",
    "    model.timespan(tspan)\n",
    "    return model"
   ]
  },
  {
   "cell_type": "markdown",
   "metadata": {},
   "source": [
    "### Instantiate the Model"
   ]
  },
  {
   "cell_type": "code",
   "execution_count": null,
   "metadata": {},
   "outputs": [],
   "source": [
    "model = create_polarization_in_yeast()"
   ]
  },
  {
   "cell_type": "markdown",
   "metadata": {},
   "source": [
    "***\n",
    "## Simulation Parameters\n",
    "***"
   ]
  },
  {
   "cell_type": "code",
   "execution_count": null,
   "metadata": {},
   "outputs": [],
   "source": [
    "def configure_simulation():\n",
    "    kwargs = {\n",
    "        # \"number_of_trajectories\":1,\n",
    "        # \"seed\":None,\n",
    "    }\n",
    "    return kwargs"
   ]
  },
  {
   "cell_type": "markdown",
   "metadata": {},
   "source": [
    "***\n",
    "## Run the Simulation\n",
    "***"
   ]
  },
  {
   "cell_type": "code",
   "execution_count": null,
   "metadata": {},
   "outputs": [],
   "source": [
    "kwargs = configure_simulation()\n",
    "results = model.run(**kwargs)"
   ]
  },
  {
   "cell_type": "markdown",
   "metadata": {},
   "source": [
    "***\n",
    "## Visualization\n",
    "***"
   ]
  },
  {
   "cell_type": "code",
   "execution_count": null,
   "metadata": {},
   "outputs": [],
   "source": [
    "results.plot_species('Cdc42c', animated=True, width=None, height=None)"
   ]
  }
 ],
 "metadata": {
  "kernelspec": {
   "display_name": "Python 3 (ipykernel)",
   "language": "python",
   "name": "python3"
  },
  "language_info": {
   "codemirror_mode": {
    "name": "ipython",
    "version": 3
   },
   "file_extension": ".py",
   "mimetype": "text/x-python",
   "name": "python",
   "nbconvert_exporter": "python",
   "pygments_lexer": "ipython3",
   "version": "3.9.9"
  }
 },
 "nbformat": 4,
 "nbformat_minor": 4
}
