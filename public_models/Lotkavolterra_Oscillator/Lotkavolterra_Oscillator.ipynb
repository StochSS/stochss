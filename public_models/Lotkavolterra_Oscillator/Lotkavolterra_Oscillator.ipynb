{
 "cells": [
  {
   "cell_type": "markdown",
   "metadata": {},
   "source": [
    "# Lotkavolterra_Oscillator"
   ]
  },
  {
   "cell_type": "code",
   "execution_count": null,
   "metadata": {},
   "outputs": [],
   "source": [
    "import numpy as np\n",
    "import gillespy2\n",
    "from gillespy2.core import Model, Species, Reaction, Parameter, RateRule, AssignmentRule, FunctionDefinition\n",
    "from gillespy2.core.events import EventAssignment, EventTrigger, Event\n",
    "from gillespy2.solvers.numpy.basic_ode_solver import BasicODESolver"
   ]
  },
  {
   "cell_type": "code",
   "execution_count": null,
   "metadata": {},
   "outputs": [],
   "source": [
    "class Lotkavolterra_Oscillator(Model):\n",
    "    def __init__(self, parameter_values=None):\n",
    "        Model.__init__(self, name=\"Lotkavolterra_Oscillator\")\n",
    "        self.volume = 1\n",
    "\n",
    "        # Parameters\n",
    "        self.add_parameter(Parameter(name=\"k1\", expression=0.004))\n",
    "        self.add_parameter(Parameter(name=\"k2\", expression=0.5))\n",
    "        self.add_parameter(Parameter(name=\"k3\", expression=0.0045))\n",
    "\n",
    "        # Species\n",
    "        self.add_species(Species(name=\"R\", initial_value=0.0095, mode=\"continuous\"))\n",
    "        self.add_species(Species(name=\"W\", initial_value=0.008, mode=\"continuous\"))\n",
    "\n",
    "        # Reactions\n",
    "        self.add_reaction(Reaction(name=\"r1\", reactants={'R': 1}, products={'R': 2}, rate=self.listOfParameters[\"k1\"]))\n",
    "        self.add_reaction(Reaction(name=\"r2\", reactants={'R': 1, 'W': 1}, products={'W': 2}, rate=self.listOfParameters[\"k2\"]))\n",
    "        self.add_reaction(Reaction(name=\"r3\", reactants={'W': 1}, products={}, rate=self.listOfParameters[\"k3\"]))\n",
    "\n",
    "        # Timespan\n",
    "        self.timespan(np.linspace(0, 9000, 9001))"
   ]
  },
  {
   "cell_type": "code",
   "execution_count": null,
   "metadata": {},
   "outputs": [],
   "source": [
    "model = Lotkavolterra_Oscillator()"
   ]
  },
  {
   "cell_type": "code",
   "execution_count": null,
   "metadata": {},
   "outputs": [],
   "source": [
    "results = model.run(solver=BasicODESolver, integrator_options={'rtol': 0.001, 'atol': 1e-06})"
   ]
  },
  {
   "cell_type": "code",
   "execution_count": null,
   "metadata": {},
   "outputs": [],
   "source": [
    "results.plotplotly()"
   ]
  }
 ],
 "metadata": {},
 "nbformat": 4,
 "nbformat_minor": 4
}
